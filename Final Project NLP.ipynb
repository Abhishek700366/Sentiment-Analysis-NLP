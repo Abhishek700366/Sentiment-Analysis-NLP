{
 "cells": [
  {
   "cell_type": "code",
   "execution_count": 1,
   "id": "daf2918e",
   "metadata": {},
   "outputs": [],
   "source": [
    "import numpy as np # linear algebra\n",
    "import pandas as pd # data processing, CSV file I/O (e.g. pd.read_csv)"
   ]
  },
  {
   "cell_type": "code",
   "execution_count": 83,
   "id": "f30b0f90",
   "metadata": {},
   "outputs": [],
   "source": [
    "# for punctuation\n",
    "import string\n",
    "import pandas as pd\n",
    "import matplotlib.pyplot as plt\n",
    "import seaborn as sns\n",
    "from collections import Counter\n",
    "# remove stop-words\n",
    "from nltk.corpus import stopwords\n",
    "\n",
    "# import regular expression\n",
    "import re\n",
    "\n",
    "# Import PorterStemmer from NLTK Library\n",
    "from nltk.stem.porter import PorterStemmer\n",
    "# Lemmatization\n",
    "from nltk.stem import WordNetLemmatizer\n",
    "# Tokenization\n",
    "from nltk.tokenize import word_tokenize\n",
    "# Imporr Ohe \n",
    "from sklearn.preprocessing import OneHotEncoder\n",
    "import numpy as np"
   ]
  },
  {
   "cell_type": "code",
   "execution_count": 3,
   "id": "8a907779",
   "metadata": {},
   "outputs": [
    {
     "data": {
      "text/html": [
       "<div>\n",
       "<style scoped>\n",
       "    .dataframe tbody tr th:only-of-type {\n",
       "        vertical-align: middle;\n",
       "    }\n",
       "\n",
       "    .dataframe tbody tr th {\n",
       "        vertical-align: top;\n",
       "    }\n",
       "\n",
       "    .dataframe thead th {\n",
       "        text-align: right;\n",
       "    }\n",
       "</style>\n",
       "<table border=\"1\" class=\"dataframe\">\n",
       "  <thead>\n",
       "    <tr style=\"text-align: right;\">\n",
       "      <th></th>\n",
       "      <th>review</th>\n",
       "      <th>sentiment</th>\n",
       "    </tr>\n",
       "  </thead>\n",
       "  <tbody>\n",
       "    <tr>\n",
       "      <th>0</th>\n",
       "      <td>One of the other reviewers has mentioned that ...</td>\n",
       "      <td>positive</td>\n",
       "    </tr>\n",
       "    <tr>\n",
       "      <th>1</th>\n",
       "      <td>A wonderful little production. &lt;br /&gt;&lt;br /&gt;The...</td>\n",
       "      <td>positive</td>\n",
       "    </tr>\n",
       "    <tr>\n",
       "      <th>2</th>\n",
       "      <td>I thought this was a wonderful way to spend ti...</td>\n",
       "      <td>positive</td>\n",
       "    </tr>\n",
       "    <tr>\n",
       "      <th>3</th>\n",
       "      <td>Basically there's a family where a little boy ...</td>\n",
       "      <td>negative</td>\n",
       "    </tr>\n",
       "    <tr>\n",
       "      <th>4</th>\n",
       "      <td>Petter Mattei's \"Love in the Time of Money\" is...</td>\n",
       "      <td>positive</td>\n",
       "    </tr>\n",
       "  </tbody>\n",
       "</table>\n",
       "</div>"
      ],
      "text/plain": [
       "                                              review sentiment\n",
       "0  One of the other reviewers has mentioned that ...  positive\n",
       "1  A wonderful little production. <br /><br />The...  positive\n",
       "2  I thought this was a wonderful way to spend ti...  positive\n",
       "3  Basically there's a family where a little boy ...  negative\n",
       "4  Petter Mattei's \"Love in the Time of Money\" is...  positive"
      ]
     },
     "execution_count": 3,
     "metadata": {},
     "output_type": "execute_result"
    }
   ],
   "source": [
    "df = pd.read_csv(\"C:/Users/jhaab/Downloads/IMDB Dataset.csv/IMDB Dataset.csv\")\n",
    "df.head()"
   ]
  },
  {
   "cell_type": "code",
   "execution_count": 4,
   "id": "8a20ba66",
   "metadata": {},
   "outputs": [
    {
     "data": {
      "text/plain": [
       "review       0\n",
       "sentiment    0\n",
       "dtype: int64"
      ]
     },
     "execution_count": 4,
     "metadata": {},
     "output_type": "execute_result"
    }
   ],
   "source": [
    "df.isnull().sum()\n"
   ]
  },
  {
   "cell_type": "markdown",
   "id": "6530e9ff",
   "metadata": {},
   "source": [
    "# Basis Text Preprocessing"
   ]
  },
  {
   "cell_type": "markdown",
   "id": "4ed9e85b",
   "metadata": {},
   "source": [
    "# LowerCasing"
   ]
  },
  {
   "cell_type": "code",
   "execution_count": 5,
   "id": "df312a48",
   "metadata": {},
   "outputs": [],
   "source": [
    "df['review'] = df['review'].str.lower()"
   ]
  },
  {
   "cell_type": "code",
   "execution_count": 6,
   "id": "9bd60055",
   "metadata": {},
   "outputs": [
    {
     "data": {
      "text/html": [
       "<div>\n",
       "<style scoped>\n",
       "    .dataframe tbody tr th:only-of-type {\n",
       "        vertical-align: middle;\n",
       "    }\n",
       "\n",
       "    .dataframe tbody tr th {\n",
       "        vertical-align: top;\n",
       "    }\n",
       "\n",
       "    .dataframe thead th {\n",
       "        text-align: right;\n",
       "    }\n",
       "</style>\n",
       "<table border=\"1\" class=\"dataframe\">\n",
       "  <thead>\n",
       "    <tr style=\"text-align: right;\">\n",
       "      <th></th>\n",
       "      <th>review</th>\n",
       "      <th>sentiment</th>\n",
       "    </tr>\n",
       "  </thead>\n",
       "  <tbody>\n",
       "    <tr>\n",
       "      <th>0</th>\n",
       "      <td>one of the other reviewers has mentioned that ...</td>\n",
       "      <td>positive</td>\n",
       "    </tr>\n",
       "    <tr>\n",
       "      <th>1</th>\n",
       "      <td>a wonderful little production. &lt;br /&gt;&lt;br /&gt;the...</td>\n",
       "      <td>positive</td>\n",
       "    </tr>\n",
       "    <tr>\n",
       "      <th>2</th>\n",
       "      <td>i thought this was a wonderful way to spend ti...</td>\n",
       "      <td>positive</td>\n",
       "    </tr>\n",
       "    <tr>\n",
       "      <th>3</th>\n",
       "      <td>basically there's a family where a little boy ...</td>\n",
       "      <td>negative</td>\n",
       "    </tr>\n",
       "    <tr>\n",
       "      <th>4</th>\n",
       "      <td>petter mattei's \"love in the time of money\" is...</td>\n",
       "      <td>positive</td>\n",
       "    </tr>\n",
       "  </tbody>\n",
       "</table>\n",
       "</div>"
      ],
      "text/plain": [
       "                                              review sentiment\n",
       "0  one of the other reviewers has mentioned that ...  positive\n",
       "1  a wonderful little production. <br /><br />the...  positive\n",
       "2  i thought this was a wonderful way to spend ti...  positive\n",
       "3  basically there's a family where a little boy ...  negative\n",
       "4  petter mattei's \"love in the time of money\" is...  positive"
      ]
     },
     "execution_count": 6,
     "metadata": {},
     "output_type": "execute_result"
    }
   ],
   "source": [
    "df.head()\n"
   ]
  },
  {
   "cell_type": "markdown",
   "id": "263a9797",
   "metadata": {},
   "source": [
    "# upperCasing"
   ]
  },
  {
   "cell_type": "code",
   "execution_count": 7,
   "id": "9a0c87d4",
   "metadata": {},
   "outputs": [
    {
     "data": {
      "text/html": [
       "<div>\n",
       "<style scoped>\n",
       "    .dataframe tbody tr th:only-of-type {\n",
       "        vertical-align: middle;\n",
       "    }\n",
       "\n",
       "    .dataframe tbody tr th {\n",
       "        vertical-align: top;\n",
       "    }\n",
       "\n",
       "    .dataframe thead th {\n",
       "        text-align: right;\n",
       "    }\n",
       "</style>\n",
       "<table border=\"1\" class=\"dataframe\">\n",
       "  <thead>\n",
       "    <tr style=\"text-align: right;\">\n",
       "      <th></th>\n",
       "      <th>review</th>\n",
       "      <th>sentiment</th>\n",
       "    </tr>\n",
       "  </thead>\n",
       "  <tbody>\n",
       "    <tr>\n",
       "      <th>0</th>\n",
       "      <td>ONE OF THE OTHER REVIEWERS HAS MENTIONED THAT ...</td>\n",
       "      <td>positive</td>\n",
       "    </tr>\n",
       "    <tr>\n",
       "      <th>1</th>\n",
       "      <td>A WONDERFUL LITTLE PRODUCTION. &lt;BR /&gt;&lt;BR /&gt;THE...</td>\n",
       "      <td>positive</td>\n",
       "    </tr>\n",
       "    <tr>\n",
       "      <th>2</th>\n",
       "      <td>I THOUGHT THIS WAS A WONDERFUL WAY TO SPEND TI...</td>\n",
       "      <td>positive</td>\n",
       "    </tr>\n",
       "    <tr>\n",
       "      <th>3</th>\n",
       "      <td>BASICALLY THERE'S A FAMILY WHERE A LITTLE BOY ...</td>\n",
       "      <td>negative</td>\n",
       "    </tr>\n",
       "    <tr>\n",
       "      <th>4</th>\n",
       "      <td>PETTER MATTEI'S \"LOVE IN THE TIME OF MONEY\" IS...</td>\n",
       "      <td>positive</td>\n",
       "    </tr>\n",
       "  </tbody>\n",
       "</table>\n",
       "</div>"
      ],
      "text/plain": [
       "                                              review sentiment\n",
       "0  ONE OF THE OTHER REVIEWERS HAS MENTIONED THAT ...  positive\n",
       "1  A WONDERFUL LITTLE PRODUCTION. <BR /><BR />THE...  positive\n",
       "2  I THOUGHT THIS WAS A WONDERFUL WAY TO SPEND TI...  positive\n",
       "3  BASICALLY THERE'S A FAMILY WHERE A LITTLE BOY ...  negative\n",
       "4  PETTER MATTEI'S \"LOVE IN THE TIME OF MONEY\" IS...  positive"
      ]
     },
     "execution_count": 7,
     "metadata": {},
     "output_type": "execute_result"
    }
   ],
   "source": [
    "df['review'] = df['review'].str.upper()\n",
    "df.head()"
   ]
  },
  {
   "cell_type": "markdown",
   "id": "21571bb6",
   "metadata": {},
   "source": [
    "# Removing Punctuations"
   ]
  },
  {
   "cell_type": "code",
   "execution_count": 8,
   "id": "ca9501c0",
   "metadata": {},
   "outputs": [
    {
     "data": {
      "text/html": [
       "<div>\n",
       "<style scoped>\n",
       "    .dataframe tbody tr th:only-of-type {\n",
       "        vertical-align: middle;\n",
       "    }\n",
       "\n",
       "    .dataframe tbody tr th {\n",
       "        vertical-align: top;\n",
       "    }\n",
       "\n",
       "    .dataframe thead th {\n",
       "        text-align: right;\n",
       "    }\n",
       "</style>\n",
       "<table border=\"1\" class=\"dataframe\">\n",
       "  <thead>\n",
       "    <tr style=\"text-align: right;\">\n",
       "      <th></th>\n",
       "      <th>review</th>\n",
       "      <th>sentiment</th>\n",
       "    </tr>\n",
       "  </thead>\n",
       "  <tbody>\n",
       "    <tr>\n",
       "      <th>0</th>\n",
       "      <td>ONE OF THE OTHER REVIEWERS HAS MENTIONED THAT ...</td>\n",
       "      <td>positive</td>\n",
       "    </tr>\n",
       "    <tr>\n",
       "      <th>1</th>\n",
       "      <td>A WONDERFUL LITTLE PRODUCTION. &lt;BR /&gt;&lt;BR /&gt;THE...</td>\n",
       "      <td>positive</td>\n",
       "    </tr>\n",
       "    <tr>\n",
       "      <th>2</th>\n",
       "      <td>I THOUGHT THIS WAS A WONDERFUL WAY TO SPEND TI...</td>\n",
       "      <td>positive</td>\n",
       "    </tr>\n",
       "    <tr>\n",
       "      <th>3</th>\n",
       "      <td>BASICALLY THERE'S A FAMILY WHERE A LITTLE BOY ...</td>\n",
       "      <td>negative</td>\n",
       "    </tr>\n",
       "    <tr>\n",
       "      <th>4</th>\n",
       "      <td>PETTER MATTEI'S \"LOVE IN THE TIME OF MONEY\" IS...</td>\n",
       "      <td>positive</td>\n",
       "    </tr>\n",
       "  </tbody>\n",
       "</table>\n",
       "</div>"
      ],
      "text/plain": [
       "                                              review sentiment\n",
       "0  ONE OF THE OTHER REVIEWERS HAS MENTIONED THAT ...  positive\n",
       "1  A WONDERFUL LITTLE PRODUCTION. <BR /><BR />THE...  positive\n",
       "2  I THOUGHT THIS WAS A WONDERFUL WAY TO SPEND TI...  positive\n",
       "3  BASICALLY THERE'S A FAMILY WHERE A LITTLE BOY ...  negative\n",
       "4  PETTER MATTEI'S \"LOVE IN THE TIME OF MONEY\" IS...  positive"
      ]
     },
     "execution_count": 8,
     "metadata": {},
     "output_type": "execute_result"
    }
   ],
   "source": [
    "# Removing Punctuations\n",
    "df.review = df.review.replace(string.punctuation, '')\n",
    "df.head()"
   ]
  },
  {
   "cell_type": "markdown",
   "id": "9a812d9a",
   "metadata": {},
   "source": [
    "# Remove Stopword"
   ]
  },
  {
   "cell_type": "code",
   "execution_count": 9,
   "id": "3447128f",
   "metadata": {},
   "outputs": [
    {
     "name": "stderr",
     "output_type": "stream",
     "text": [
      "[nltk_data] Downloading package stopwords to\n",
      "[nltk_data]     C:\\Users\\jhaab\\AppData\\Roaming\\nltk_data...\n",
      "[nltk_data]   Package stopwords is already up-to-date!\n"
     ]
    },
    {
     "data": {
      "text/plain": [
       "True"
      ]
     },
     "execution_count": 9,
     "metadata": {},
     "output_type": "execute_result"
    }
   ],
   "source": [
    "import nltk\n",
    "from nltk.corpus import stopwords\n",
    "# Download stopwords if not already downloaded\n",
    "nltk.download('stopwords')"
   ]
  },
  {
   "cell_type": "markdown",
   "id": "120815bf",
   "metadata": {},
   "source": [
    "# lowercase word"
   ]
  },
  {
   "cell_type": "code",
   "execution_count": 10,
   "id": "4dfd00f0",
   "metadata": {},
   "outputs": [
    {
     "data": {
      "text/html": [
       "<div>\n",
       "<style scoped>\n",
       "    .dataframe tbody tr th:only-of-type {\n",
       "        vertical-align: middle;\n",
       "    }\n",
       "\n",
       "    .dataframe tbody tr th {\n",
       "        vertical-align: top;\n",
       "    }\n",
       "\n",
       "    .dataframe thead th {\n",
       "        text-align: right;\n",
       "    }\n",
       "</style>\n",
       "<table border=\"1\" class=\"dataframe\">\n",
       "  <thead>\n",
       "    <tr style=\"text-align: right;\">\n",
       "      <th></th>\n",
       "      <th>review</th>\n",
       "      <th>sentiment</th>\n",
       "    </tr>\n",
       "  </thead>\n",
       "  <tbody>\n",
       "    <tr>\n",
       "      <th>0</th>\n",
       "      <td>one of the other reviewers has mentioned that ...</td>\n",
       "      <td>positive</td>\n",
       "    </tr>\n",
       "    <tr>\n",
       "      <th>1</th>\n",
       "      <td>a wonderful little production. &lt;br /&gt;&lt;br /&gt;the...</td>\n",
       "      <td>positive</td>\n",
       "    </tr>\n",
       "    <tr>\n",
       "      <th>2</th>\n",
       "      <td>i thought this was a wonderful way to spend ti...</td>\n",
       "      <td>positive</td>\n",
       "    </tr>\n",
       "    <tr>\n",
       "      <th>3</th>\n",
       "      <td>basically there's a family where a little boy ...</td>\n",
       "      <td>negative</td>\n",
       "    </tr>\n",
       "    <tr>\n",
       "      <th>4</th>\n",
       "      <td>petter mattei's \"love in the time of money\" is...</td>\n",
       "      <td>positive</td>\n",
       "    </tr>\n",
       "  </tbody>\n",
       "</table>\n",
       "</div>"
      ],
      "text/plain": [
       "                                              review sentiment\n",
       "0  one of the other reviewers has mentioned that ...  positive\n",
       "1  a wonderful little production. <br /><br />the...  positive\n",
       "2  i thought this was a wonderful way to spend ti...  positive\n",
       "3  basically there's a family where a little boy ...  negative\n",
       "4  petter mattei's \"love in the time of money\" is...  positive"
      ]
     },
     "execution_count": 10,
     "metadata": {},
     "output_type": "execute_result"
    }
   ],
   "source": [
    "df['review'] = df['review'].str.lower()\n",
    "df.head()"
   ]
  },
  {
   "cell_type": "code",
   "execution_count": 11,
   "id": "0396523c",
   "metadata": {},
   "outputs": [
    {
     "data": {
      "text/html": [
       "<div>\n",
       "<style scoped>\n",
       "    .dataframe tbody tr th:only-of-type {\n",
       "        vertical-align: middle;\n",
       "    }\n",
       "\n",
       "    .dataframe tbody tr th {\n",
       "        vertical-align: top;\n",
       "    }\n",
       "\n",
       "    .dataframe thead th {\n",
       "        text-align: right;\n",
       "    }\n",
       "</style>\n",
       "<table border=\"1\" class=\"dataframe\">\n",
       "  <thead>\n",
       "    <tr style=\"text-align: right;\">\n",
       "      <th></th>\n",
       "      <th>review</th>\n",
       "      <th>sentiment</th>\n",
       "    </tr>\n",
       "  </thead>\n",
       "  <tbody>\n",
       "    <tr>\n",
       "      <th>0</th>\n",
       "      <td>one reviewers mentioned watching 1 oz episode ...</td>\n",
       "      <td>positive</td>\n",
       "    </tr>\n",
       "    <tr>\n",
       "      <th>1</th>\n",
       "      <td>wonderful little production. &lt;br /&gt;&lt;br /&gt;the f...</td>\n",
       "      <td>positive</td>\n",
       "    </tr>\n",
       "    <tr>\n",
       "      <th>2</th>\n",
       "      <td>thought wonderful way spend time hot summer we...</td>\n",
       "      <td>positive</td>\n",
       "    </tr>\n",
       "    <tr>\n",
       "      <th>3</th>\n",
       "      <td>basically there's family little boy (jake) thi...</td>\n",
       "      <td>negative</td>\n",
       "    </tr>\n",
       "    <tr>\n",
       "      <th>4</th>\n",
       "      <td>petter mattei's \"love time money\" visually stu...</td>\n",
       "      <td>positive</td>\n",
       "    </tr>\n",
       "  </tbody>\n",
       "</table>\n",
       "</div>"
      ],
      "text/plain": [
       "                                              review sentiment\n",
       "0  one reviewers mentioned watching 1 oz episode ...  positive\n",
       "1  wonderful little production. <br /><br />the f...  positive\n",
       "2  thought wonderful way spend time hot summer we...  positive\n",
       "3  basically there's family little boy (jake) thi...  negative\n",
       "4  petter mattei's \"love time money\" visually stu...  positive"
      ]
     },
     "execution_count": 11,
     "metadata": {},
     "output_type": "execute_result"
    }
   ],
   "source": [
    "# Intilize Stopwords\n",
    "stop_words = stopwords.words('english')\n",
    "\n",
    "# Apply Stopwords\n",
    "df['review'] = df['review'].apply(lambda x : ' '.join([word for word in x.split() if word not in (stop_words)]))\n",
    "# Head \n",
    "df.head()"
   ]
  },
  {
   "cell_type": "markdown",
   "id": "6a851365",
   "metadata": {},
   "source": [
    "# Removing HTMl Tags"
   ]
  },
  {
   "cell_type": "code",
   "execution_count": 12,
   "id": "00d7ac33",
   "metadata": {},
   "outputs": [
    {
     "name": "stderr",
     "output_type": "stream",
     "text": [
      "C:\\Users\\jhaab\\AppData\\Local\\Temp\\ipykernel_16216\\384061778.py:5: MarkupResemblesLocatorWarning: The input looks more like a filename than markup. You may want to open this file and pass the filehandle into Beautiful Soup.\n",
      "  soup = BeautifulSoup(text, \"html.parser\")\n"
     ]
    },
    {
     "data": {
      "text/html": [
       "<div>\n",
       "<style scoped>\n",
       "    .dataframe tbody tr th:only-of-type {\n",
       "        vertical-align: middle;\n",
       "    }\n",
       "\n",
       "    .dataframe tbody tr th {\n",
       "        vertical-align: top;\n",
       "    }\n",
       "\n",
       "    .dataframe thead th {\n",
       "        text-align: right;\n",
       "    }\n",
       "</style>\n",
       "<table border=\"1\" class=\"dataframe\">\n",
       "  <thead>\n",
       "    <tr style=\"text-align: right;\">\n",
       "      <th></th>\n",
       "      <th>review</th>\n",
       "      <th>sentiment</th>\n",
       "    </tr>\n",
       "  </thead>\n",
       "  <tbody>\n",
       "    <tr>\n",
       "      <th>0</th>\n",
       "      <td>one reviewers mentioned watching 1 oz episode ...</td>\n",
       "      <td>positive</td>\n",
       "    </tr>\n",
       "    <tr>\n",
       "      <th>1</th>\n",
       "      <td>wonderful little production. the filming techn...</td>\n",
       "      <td>positive</td>\n",
       "    </tr>\n",
       "    <tr>\n",
       "      <th>2</th>\n",
       "      <td>thought wonderful way spend time hot summer we...</td>\n",
       "      <td>positive</td>\n",
       "    </tr>\n",
       "    <tr>\n",
       "      <th>3</th>\n",
       "      <td>basically there's family little boy (jake) thi...</td>\n",
       "      <td>negative</td>\n",
       "    </tr>\n",
       "    <tr>\n",
       "      <th>4</th>\n",
       "      <td>petter mattei's \"love time money\" visually stu...</td>\n",
       "      <td>positive</td>\n",
       "    </tr>\n",
       "  </tbody>\n",
       "</table>\n",
       "</div>"
      ],
      "text/plain": [
       "                                              review sentiment\n",
       "0  one reviewers mentioned watching 1 oz episode ...  positive\n",
       "1  wonderful little production. the filming techn...  positive\n",
       "2  thought wonderful way spend time hot summer we...  positive\n",
       "3  basically there's family little boy (jake) thi...  negative\n",
       "4  petter mattei's \"love time money\" visually stu...  positive"
      ]
     },
     "execution_count": 12,
     "metadata": {},
     "output_type": "execute_result"
    }
   ],
   "source": [
    "from bs4 import BeautifulSoup\n",
    "\n",
    "# Function to remove HTML tags\n",
    "def remove_html_tags(text):\n",
    "    soup = BeautifulSoup(text, \"html.parser\")\n",
    "    return soup.get_text()\n",
    "\n",
    "# Applying the function to the 'review' column\n",
    "df['review'] = df['review'].apply(remove_html_tags)\n",
    "df.head()"
   ]
  },
  {
   "cell_type": "markdown",
   "id": "b45c8c40",
   "metadata": {},
   "source": [
    "# Remove url"
   ]
  },
  {
   "cell_type": "code",
   "execution_count": 13,
   "id": "34e233e1",
   "metadata": {},
   "outputs": [
    {
     "data": {
      "text/html": [
       "<div>\n",
       "<style scoped>\n",
       "    .dataframe tbody tr th:only-of-type {\n",
       "        vertical-align: middle;\n",
       "    }\n",
       "\n",
       "    .dataframe tbody tr th {\n",
       "        vertical-align: top;\n",
       "    }\n",
       "\n",
       "    .dataframe thead th {\n",
       "        text-align: right;\n",
       "    }\n",
       "</style>\n",
       "<table border=\"1\" class=\"dataframe\">\n",
       "  <thead>\n",
       "    <tr style=\"text-align: right;\">\n",
       "      <th></th>\n",
       "      <th>review</th>\n",
       "      <th>sentiment</th>\n",
       "    </tr>\n",
       "  </thead>\n",
       "  <tbody>\n",
       "    <tr>\n",
       "      <th>0</th>\n",
       "      <td>one reviewers mentioned watching 1 oz episode ...</td>\n",
       "      <td>positive</td>\n",
       "    </tr>\n",
       "    <tr>\n",
       "      <th>1</th>\n",
       "      <td>wonderful little production. the filming techn...</td>\n",
       "      <td>positive</td>\n",
       "    </tr>\n",
       "    <tr>\n",
       "      <th>2</th>\n",
       "      <td>thought wonderful way spend time hot summer we...</td>\n",
       "      <td>positive</td>\n",
       "    </tr>\n",
       "    <tr>\n",
       "      <th>3</th>\n",
       "      <td>basically there's family little boy (jake) thi...</td>\n",
       "      <td>negative</td>\n",
       "    </tr>\n",
       "    <tr>\n",
       "      <th>4</th>\n",
       "      <td>petter mattei's \"love time money\" visually stu...</td>\n",
       "      <td>positive</td>\n",
       "    </tr>\n",
       "  </tbody>\n",
       "</table>\n",
       "</div>"
      ],
      "text/plain": [
       "                                              review sentiment\n",
       "0  one reviewers mentioned watching 1 oz episode ...  positive\n",
       "1  wonderful little production. the filming techn...  positive\n",
       "2  thought wonderful way spend time hot summer we...  positive\n",
       "3  basically there's family little boy (jake) thi...  negative\n",
       "4  petter mattei's \"love time money\" visually stu...  positive"
      ]
     },
     "execution_count": 13,
     "metadata": {},
     "output_type": "execute_result"
    }
   ],
   "source": [
    "# Function to remove URLs\n",
    "def remove_urls(text):\n",
    "    # Regular expression to match URLs\n",
    "    url_pattern = re.compile(r'https?://\\S+|www\\.\\S+')\n",
    "    return url_pattern.sub('', text)\n",
    "\n",
    "# Applying the function to the 'review' column\n",
    "df['review'] = df['review'].apply(remove_urls)\n",
    "df.head()"
   ]
  },
  {
   "cell_type": "markdown",
   "id": "b792e6ee",
   "metadata": {},
   "source": [
    "# Handling ChatsWords"
   ]
  },
  {
   "cell_type": "code",
   "execution_count": 14,
   "id": "c3491564",
   "metadata": {},
   "outputs": [],
   "source": [
    "# Here Come ChatWords Which i Get from a Github Repository\n",
    "# Repository Link : https://github.com/rishabhverma17/sms_slang_translator/blob/master/slang.txt\n",
    "chat_words = {\n",
    "    \"AFAIK\": \"As Far As I Know\",\n",
    "    \"AFK\": \"Away From Keyboard\",\n",
    "    \"ASAP\": \"As Soon As Possible\",\n",
    "    \"ATK\": \"At The Keyboard\",\n",
    "    \"ATM\": \"At The Moment\",\n",
    "    \"A3\": \"Anytime, Anywhere, Anyplace\",\n",
    "    \"BAK\": \"Back At Keyboard\",\n",
    "    \"BBL\": \"Be Back Later\",\n",
    "    \"BBS\": \"Be Back Soon\",\n",
    "    \"BFN\": \"Bye For Now\",\n",
    "    \"B4N\": \"Bye For Now\",\n",
    "    \"BRB\": \"Be Right Back\",\n",
    "    \"BRT\": \"Be Right There\",\n",
    "    \"BTW\": \"By The Way\",\n",
    "    \"B4\": \"Before\",\n",
    "    \"B4N\": \"Bye For Now\",\n",
    "     \"CU\": \"See You\",\n",
    "    \"CUL8R\": \"See You Later\",\n",
    "    \"CYA\": \"See You\",\n",
    "    \"FAQ\": \"Frequently Asked Questions\",\n",
    "    \"FC\": \"Fingers Crossed\",\n",
    "    \"FWIW\": \"For What It's Worth\",\n",
    "    \"FYI\": \"For Your Information\",\n",
    "    \"GAL\": \"Get A Life\",\n",
    "    \"GG\": \"Good Game\",\n",
    "    \"GN\": \"Good Night\",\n",
    "    \"GMTA\": \"Great Minds Think Alike\",\n",
    "    \"GR8\": \"Great!\",\n",
    "    \"G9\": \"Genius\",\n",
    "    \"IC\": \"I See\",\n",
    "    \"ICQ\": \"I Seek you (also a chat program)\",\n",
    "    \"ILU\": \"ILU: I Love You\",\n",
    "    \"IMHO\": \"In My Honest/Humble Opinion\",\n",
    "    \"IMO\": \"In My Opinion\",\n",
    "    \"IOW\": \"In Other Words\",\n",
    "    \"IRL\": \"In Real Life\",\n",
    "    \"KISS\": \"Keep It Simple, Stupid\",\n",
    "    \"LDR\": \"Long Distance Relationship\",\n",
    "    \"LMAO\": \"Laugh My A.. Off\",\n",
    "    \"LOL\": \"Laughing Out Loud\",\n",
    "    \"LTNS\": \"Long Time No See\",\n",
    "    \"L8R\": \"Later\",\n",
    "    \"MTE\": \"My Thoughts Exactly\",\n",
    "    \"M8\": \"Mate\",\n",
    "    \"NRN\": \"No Reply Necessary\",\n",
    "    \"OIC\": \"Oh I See\",\n",
    "    \"PITA\": \"Pain In The A..\",\n",
    "    \"PRT\": \"Party\",\n",
    "    \"PRW\": \"Parents Are Watching\",\n",
    "    \"QPSA?\": \"Que Pasa?\",\n",
    "    \"ROFL\": \"Rolling On The Floor Laughing\",\n",
    "    \"ROFLOL\": \"Rolling On The Floor Laughing Out Loud\",\n",
    "    \"ROTFLMAO\": \"Rolling On The Floor Laughing My A.. Off\",\n",
    "    \"SK8\": \"Skate\",\n",
    "        \"STATS\": \"Your sex and age\",\n",
    "    \"ASL\": \"Age, Sex, Location\",\n",
    "    \"THX\": \"Thank You\",\n",
    "    \"TTFN\": \"Ta-Ta For Now!\",\n",
    "    \"TTYL\": \"Talk To You Later\",\n",
    "    \"U\": \"You\",\n",
    "    \"U2\": \"You Too\",\n",
    "    \"U4E\": \"Yours For Ever\",\n",
    "    \"WB\": \"Welcome Back\",\n",
    "    \"WTF\": \"What The F...\",\n",
    "    \"WTG\": \"Way To Go!\",\n",
    "    \"WUF\": \"Where Are You From?\",\n",
    "    \"W8\": \"Wait...\",\n",
    "    \"7K\": \"Sick:-D Laugher\",\n",
    "    \"TFW\": \"That feeling when\",\n",
    "    \"MFW\": \"My face when\",\n",
    "    \"MRW\": \"My reaction when\",\n",
    "    \"IFYP\": \"I feel your pain\",\n",
    "    \"TNTL\": \"Trying not to laugh\",\n",
    "    \"JK\": \"Just kidding\",\n",
    "    \"IDC\": \"I don't care\",\n",
    "    \"ILY\": \"I love you\",\n",
    "    \"IMU\": \"I miss you\",\n",
    "    \"ADIH\": \"Another day in hell\",\n",
    "    \"ZZZ\": \"Sleeping, bored, tired\",\n",
    "    \"WYWH\": \"Wish you were here\",\n",
    "    \"TIME\": \"Tears in my eyes\",\n",
    "    \"BAE\": \"Before anyone else\",\n",
    "    \"FIMH\": \"Forever in my heart\",\n",
    "    \"BSAAW\": \"Big smile and a wink\",\n",
    "    \"BWL\": \"Bursting with laughter\",\n",
    "    \"BFF\": \"Best friends forever\",\n",
    "    \"CSL\": \"Can't stop laughing\"\n",
    "}"
   ]
  },
  {
   "cell_type": "code",
   "execution_count": 15,
   "id": "b38760cf",
   "metadata": {},
   "outputs": [
    {
     "data": {
      "text/html": [
       "<div>\n",
       "<style scoped>\n",
       "    .dataframe tbody tr th:only-of-type {\n",
       "        vertical-align: middle;\n",
       "    }\n",
       "\n",
       "    .dataframe tbody tr th {\n",
       "        vertical-align: top;\n",
       "    }\n",
       "\n",
       "    .dataframe thead th {\n",
       "        text-align: right;\n",
       "    }\n",
       "</style>\n",
       "<table border=\"1\" class=\"dataframe\">\n",
       "  <thead>\n",
       "    <tr style=\"text-align: right;\">\n",
       "      <th></th>\n",
       "      <th>review</th>\n",
       "      <th>sentiment</th>\n",
       "    </tr>\n",
       "  </thead>\n",
       "  <tbody>\n",
       "    <tr>\n",
       "      <th>0</th>\n",
       "      <td>one reviewers mentioned watching 1 oz episode ...</td>\n",
       "      <td>positive</td>\n",
       "    </tr>\n",
       "    <tr>\n",
       "      <th>1</th>\n",
       "      <td>wonderful little production. the filming techn...</td>\n",
       "      <td>positive</td>\n",
       "    </tr>\n",
       "    <tr>\n",
       "      <th>2</th>\n",
       "      <td>thought wonderful way spend Tears in my eyes h...</td>\n",
       "      <td>positive</td>\n",
       "    </tr>\n",
       "    <tr>\n",
       "      <th>3</th>\n",
       "      <td>basically there's family little boy (jake) thi...</td>\n",
       "      <td>negative</td>\n",
       "    </tr>\n",
       "    <tr>\n",
       "      <th>4</th>\n",
       "      <td>petter mattei's \"love Tears in my eyes money\" ...</td>\n",
       "      <td>positive</td>\n",
       "    </tr>\n",
       "  </tbody>\n",
       "</table>\n",
       "</div>"
      ],
      "text/plain": [
       "                                              review sentiment\n",
       "0  one reviewers mentioned watching 1 oz episode ...  positive\n",
       "1  wonderful little production. the filming techn...  positive\n",
       "2  thought wonderful way spend Tears in my eyes h...  positive\n",
       "3  basically there's family little boy (jake) thi...  negative\n",
       "4  petter mattei's \"love Tears in my eyes money\" ...  positive"
      ]
     },
     "execution_count": 15,
     "metadata": {},
     "output_type": "execute_result"
    }
   ],
   "source": [
    "# Function\n",
    "def chat_conversion(text):\n",
    "    new_text = []\n",
    "    for i in text.split():\n",
    "        if i.upper() in chat_words:\n",
    "            new_text.append(chat_words[i.upper()])\n",
    "        else:\n",
    "            new_text.append(i)\n",
    "    return \" \".join(new_text)\n",
    "\n",
    "# Calling Function \n",
    "df['review'] = df['review'].apply(chat_conversion)\n",
    "\n",
    "# Head\n",
    "df.head()"
   ]
  },
  {
   "cell_type": "markdown",
   "id": "5a0e9a0b",
   "metadata": {},
   "source": [
    "# Word_Tokenization"
   ]
  },
  {
   "cell_type": "code",
   "execution_count": 16,
   "id": "1543a1bb",
   "metadata": {},
   "outputs": [
    {
     "data": {
      "text/html": [
       "<div>\n",
       "<style scoped>\n",
       "    .dataframe tbody tr th:only-of-type {\n",
       "        vertical-align: middle;\n",
       "    }\n",
       "\n",
       "    .dataframe tbody tr th {\n",
       "        vertical-align: top;\n",
       "    }\n",
       "\n",
       "    .dataframe thead th {\n",
       "        text-align: right;\n",
       "    }\n",
       "</style>\n",
       "<table border=\"1\" class=\"dataframe\">\n",
       "  <thead>\n",
       "    <tr style=\"text-align: right;\">\n",
       "      <th></th>\n",
       "      <th>review</th>\n",
       "      <th>sentiment</th>\n",
       "      <th>review_word_token</th>\n",
       "    </tr>\n",
       "  </thead>\n",
       "  <tbody>\n",
       "    <tr>\n",
       "      <th>0</th>\n",
       "      <td>one reviewers mentioned watching 1 oz episode ...</td>\n",
       "      <td>positive</td>\n",
       "      <td>[one, reviewers, mentioned, watching, 1, oz, e...</td>\n",
       "    </tr>\n",
       "    <tr>\n",
       "      <th>1</th>\n",
       "      <td>wonderful little production. the filming techn...</td>\n",
       "      <td>positive</td>\n",
       "      <td>[wonderful, little, production, ., the, filmin...</td>\n",
       "    </tr>\n",
       "    <tr>\n",
       "      <th>2</th>\n",
       "      <td>thought wonderful way spend Tears in my eyes h...</td>\n",
       "      <td>positive</td>\n",
       "      <td>[thought, wonderful, way, spend, Tears, in, my...</td>\n",
       "    </tr>\n",
       "    <tr>\n",
       "      <th>3</th>\n",
       "      <td>basically there's family little boy (jake) thi...</td>\n",
       "      <td>negative</td>\n",
       "      <td>[basically, there, 's, family, little, boy, (,...</td>\n",
       "    </tr>\n",
       "    <tr>\n",
       "      <th>4</th>\n",
       "      <td>petter mattei's \"love Tears in my eyes money\" ...</td>\n",
       "      <td>positive</td>\n",
       "      <td>[petter, mattei, 's, ``, love, Tears, in, my, ...</td>\n",
       "    </tr>\n",
       "  </tbody>\n",
       "</table>\n",
       "</div>"
      ],
      "text/plain": [
       "                                              review sentiment  \\\n",
       "0  one reviewers mentioned watching 1 oz episode ...  positive   \n",
       "1  wonderful little production. the filming techn...  positive   \n",
       "2  thought wonderful way spend Tears in my eyes h...  positive   \n",
       "3  basically there's family little boy (jake) thi...  negative   \n",
       "4  petter mattei's \"love Tears in my eyes money\" ...  positive   \n",
       "\n",
       "                                   review_word_token  \n",
       "0  [one, reviewers, mentioned, watching, 1, oz, e...  \n",
       "1  [wonderful, little, production, ., the, filmin...  \n",
       "2  [thought, wonderful, way, spend, Tears, in, my...  \n",
       "3  [basically, there, 's, family, little, boy, (,...  \n",
       "4  [petter, mattei, 's, ``, love, Tears, in, my, ...  "
      ]
     },
     "execution_count": 16,
     "metadata": {},
     "output_type": "execute_result"
    }
   ],
   "source": [
    "# Tokenization \n",
    "from nltk.tokenize import word_tokenize\n",
    "\n",
    "# Apply word_tokenize\n",
    "df['review_word_token'] = df['review'].apply(word_tokenize)\n",
    "\n",
    "# Head\n",
    "df.head()"
   ]
  },
  {
   "cell_type": "markdown",
   "id": "0006b8cd",
   "metadata": {},
   "source": [
    "# Sentence_Tokenization"
   ]
  },
  {
   "cell_type": "code",
   "execution_count": 17,
   "id": "b1998c92",
   "metadata": {},
   "outputs": [
    {
     "data": {
      "text/html": [
       "<div>\n",
       "<style scoped>\n",
       "    .dataframe tbody tr th:only-of-type {\n",
       "        vertical-align: middle;\n",
       "    }\n",
       "\n",
       "    .dataframe tbody tr th {\n",
       "        vertical-align: top;\n",
       "    }\n",
       "\n",
       "    .dataframe thead th {\n",
       "        text-align: right;\n",
       "    }\n",
       "</style>\n",
       "<table border=\"1\" class=\"dataframe\">\n",
       "  <thead>\n",
       "    <tr style=\"text-align: right;\">\n",
       "      <th></th>\n",
       "      <th>review</th>\n",
       "      <th>sentiment</th>\n",
       "      <th>review_word_token</th>\n",
       "      <th>review_sent_token</th>\n",
       "    </tr>\n",
       "  </thead>\n",
       "  <tbody>\n",
       "    <tr>\n",
       "      <th>0</th>\n",
       "      <td>one reviewers mentioned watching 1 oz episode ...</td>\n",
       "      <td>positive</td>\n",
       "      <td>[one, reviewers, mentioned, watching, 1, oz, e...</td>\n",
       "      <td>[one reviewers mentioned watching 1 oz episode...</td>\n",
       "    </tr>\n",
       "    <tr>\n",
       "      <th>1</th>\n",
       "      <td>wonderful little production. the filming techn...</td>\n",
       "      <td>positive</td>\n",
       "      <td>[wonderful, little, production, ., the, filmin...</td>\n",
       "      <td>[wonderful little production., the filming tec...</td>\n",
       "    </tr>\n",
       "    <tr>\n",
       "      <th>2</th>\n",
       "      <td>thought wonderful way spend Tears in my eyes h...</td>\n",
       "      <td>positive</td>\n",
       "      <td>[thought, wonderful, way, spend, Tears, in, my...</td>\n",
       "      <td>[thought wonderful way spend Tears in my eyes ...</td>\n",
       "    </tr>\n",
       "    <tr>\n",
       "      <th>3</th>\n",
       "      <td>basically there's family little boy (jake) thi...</td>\n",
       "      <td>negative</td>\n",
       "      <td>[basically, there, 's, family, little, boy, (,...</td>\n",
       "      <td>[basically there's family little boy (jake) th...</td>\n",
       "    </tr>\n",
       "    <tr>\n",
       "      <th>4</th>\n",
       "      <td>petter mattei's \"love Tears in my eyes money\" ...</td>\n",
       "      <td>positive</td>\n",
       "      <td>[petter, mattei, 's, ``, love, Tears, in, my, ...</td>\n",
       "      <td>[petter mattei's \"love Tears in my eyes money\"...</td>\n",
       "    </tr>\n",
       "  </tbody>\n",
       "</table>\n",
       "</div>"
      ],
      "text/plain": [
       "                                              review sentiment  \\\n",
       "0  one reviewers mentioned watching 1 oz episode ...  positive   \n",
       "1  wonderful little production. the filming techn...  positive   \n",
       "2  thought wonderful way spend Tears in my eyes h...  positive   \n",
       "3  basically there's family little boy (jake) thi...  negative   \n",
       "4  petter mattei's \"love Tears in my eyes money\" ...  positive   \n",
       "\n",
       "                                   review_word_token  \\\n",
       "0  [one, reviewers, mentioned, watching, 1, oz, e...   \n",
       "1  [wonderful, little, production, ., the, filmin...   \n",
       "2  [thought, wonderful, way, spend, Tears, in, my...   \n",
       "3  [basically, there, 's, family, little, boy, (,...   \n",
       "4  [petter, mattei, 's, ``, love, Tears, in, my, ...   \n",
       "\n",
       "                                   review_sent_token  \n",
       "0  [one reviewers mentioned watching 1 oz episode...  \n",
       "1  [wonderful little production., the filming tec...  \n",
       "2  [thought wonderful way spend Tears in my eyes ...  \n",
       "3  [basically there's family little boy (jake) th...  \n",
       "4  [petter mattei's \"love Tears in my eyes money\"...  "
      ]
     },
     "execution_count": 17,
     "metadata": {},
     "output_type": "execute_result"
    }
   ],
   "source": [
    "# Tokenization \n",
    "from nltk.tokenize import sent_tokenize\n",
    "\n",
    "# Apply sent_tokenize\n",
    "df['review_sent_token'] = df['review'].apply(sent_tokenize)\n",
    "\n",
    "# Head\n",
    "df.head()"
   ]
  },
  {
   "cell_type": "markdown",
   "id": "9e851bc7",
   "metadata": {},
   "source": [
    "# Stemming"
   ]
  },
  {
   "cell_type": "code",
   "execution_count": 19,
   "id": "fe769c9a",
   "metadata": {},
   "outputs": [
    {
     "data": {
      "text/html": [
       "<div>\n",
       "<style scoped>\n",
       "    .dataframe tbody tr th:only-of-type {\n",
       "        vertical-align: middle;\n",
       "    }\n",
       "\n",
       "    .dataframe tbody tr th {\n",
       "        vertical-align: top;\n",
       "    }\n",
       "\n",
       "    .dataframe thead th {\n",
       "        text-align: right;\n",
       "    }\n",
       "</style>\n",
       "<table border=\"1\" class=\"dataframe\">\n",
       "  <thead>\n",
       "    <tr style=\"text-align: right;\">\n",
       "      <th></th>\n",
       "      <th>review</th>\n",
       "      <th>sentiment</th>\n",
       "      <th>review_word_token</th>\n",
       "      <th>review_sent_token</th>\n",
       "      <th>review_stemmed</th>\n",
       "    </tr>\n",
       "  </thead>\n",
       "  <tbody>\n",
       "    <tr>\n",
       "      <th>0</th>\n",
       "      <td>one reviewers mentioned watching 1 oz episode ...</td>\n",
       "      <td>positive</td>\n",
       "      <td>[one, reviewers, mentioned, watching, 1, oz, e...</td>\n",
       "      <td>[one reviewers mentioned watching 1 oz episode...</td>\n",
       "      <td>one review mention watch 1 oz episod hooked. r...</td>\n",
       "    </tr>\n",
       "    <tr>\n",
       "      <th>1</th>\n",
       "      <td>wonderful little production. the filming techn...</td>\n",
       "      <td>positive</td>\n",
       "      <td>[wonderful, little, production, ., the, filmin...</td>\n",
       "      <td>[wonderful little production., the filming tec...</td>\n",
       "      <td>wonder littl production. the film techniqu una...</td>\n",
       "    </tr>\n",
       "    <tr>\n",
       "      <th>2</th>\n",
       "      <td>thought wonderful way spend Tears in my eyes h...</td>\n",
       "      <td>positive</td>\n",
       "      <td>[thought, wonderful, way, spend, Tears, in, my...</td>\n",
       "      <td>[thought wonderful way spend Tears in my eyes ...</td>\n",
       "      <td>thought wonder way spend tear in my eye hot su...</td>\n",
       "    </tr>\n",
       "    <tr>\n",
       "      <th>3</th>\n",
       "      <td>basically there's family little boy (jake) thi...</td>\n",
       "      <td>negative</td>\n",
       "      <td>[basically, there, 's, family, little, boy, (,...</td>\n",
       "      <td>[basically there's family little boy (jake) th...</td>\n",
       "      <td>basic there' famili littl boy (jake) think the...</td>\n",
       "    </tr>\n",
       "    <tr>\n",
       "      <th>4</th>\n",
       "      <td>petter mattei's \"love Tears in my eyes money\" ...</td>\n",
       "      <td>positive</td>\n",
       "      <td>[petter, mattei, 's, ``, love, Tears, in, my, ...</td>\n",
       "      <td>[petter mattei's \"love Tears in my eyes money\"...</td>\n",
       "      <td>petter mattei' \"love tear in my eye money\" vis...</td>\n",
       "    </tr>\n",
       "  </tbody>\n",
       "</table>\n",
       "</div>"
      ],
      "text/plain": [
       "                                              review sentiment  \\\n",
       "0  one reviewers mentioned watching 1 oz episode ...  positive   \n",
       "1  wonderful little production. the filming techn...  positive   \n",
       "2  thought wonderful way spend Tears in my eyes h...  positive   \n",
       "3  basically there's family little boy (jake) thi...  negative   \n",
       "4  petter mattei's \"love Tears in my eyes money\" ...  positive   \n",
       "\n",
       "                                   review_word_token  \\\n",
       "0  [one, reviewers, mentioned, watching, 1, oz, e...   \n",
       "1  [wonderful, little, production, ., the, filmin...   \n",
       "2  [thought, wonderful, way, spend, Tears, in, my...   \n",
       "3  [basically, there, 's, family, little, boy, (,...   \n",
       "4  [petter, mattei, 's, ``, love, Tears, in, my, ...   \n",
       "\n",
       "                                   review_sent_token  \\\n",
       "0  [one reviewers mentioned watching 1 oz episode...   \n",
       "1  [wonderful little production., the filming tec...   \n",
       "2  [thought wonderful way spend Tears in my eyes ...   \n",
       "3  [basically there's family little boy (jake) th...   \n",
       "4  [petter mattei's \"love Tears in my eyes money\"...   \n",
       "\n",
       "                                      review_stemmed  \n",
       "0  one review mention watch 1 oz episod hooked. r...  \n",
       "1  wonder littl production. the film techniqu una...  \n",
       "2  thought wonder way spend tear in my eye hot su...  \n",
       "3  basic there' famili littl boy (jake) think the...  \n",
       "4  petter mattei' \"love tear in my eye money\" vis...  "
      ]
     },
     "execution_count": 19,
     "metadata": {},
     "output_type": "execute_result"
    }
   ],
   "source": [
    "# Intlize PorterStemmer\n",
    "ps = PorterStemmer()\n",
    "\n",
    "# Apply PorterStemmer\n",
    "df['review_stemmed'] = df['review'].apply(lambda x: ' '.join([ps.stem(word) for word in x.split()]))\n",
    "\n",
    "# Head\n",
    "df.head()"
   ]
  },
  {
   "cell_type": "markdown",
   "id": "1402e468",
   "metadata": {},
   "source": [
    "# Lemmatization"
   ]
  },
  {
   "cell_type": "code",
   "execution_count": 20,
   "id": "6f6e23df",
   "metadata": {},
   "outputs": [
    {
     "name": "stderr",
     "output_type": "stream",
     "text": [
      "[nltk_data] Downloading package punkt to\n",
      "[nltk_data]     C:\\Users\\jhaab\\AppData\\Roaming\\nltk_data...\n",
      "[nltk_data]   Package punkt is already up-to-date!\n",
      "[nltk_data] Downloading package stopwords to\n",
      "[nltk_data]     C:\\Users\\jhaab\\AppData\\Roaming\\nltk_data...\n",
      "[nltk_data]   Package stopwords is already up-to-date!\n",
      "[nltk_data] Downloading package wordnet to\n",
      "[nltk_data]     C:\\Users\\jhaab\\AppData\\Roaming\\nltk_data...\n",
      "[nltk_data]   Package wordnet is already up-to-date!\n"
     ]
    },
    {
     "data": {
      "text/plain": [
       "True"
      ]
     },
     "execution_count": 20,
     "metadata": {},
     "output_type": "execute_result"
    }
   ],
   "source": [
    "# Download NLTK resources (uncomment the following line if not already downloaded)?\n",
    "import nltk\n",
    "nltk.download('punkt')\n",
    "nltk.download('stopwords')\n",
    "nltk.download('wordnet')"
   ]
  },
  {
   "cell_type": "code",
   "execution_count": 21,
   "id": "fab8664e",
   "metadata": {},
   "outputs": [
    {
     "name": "stdout",
     "output_type": "stream",
     "text": [
      "Word                Lemma               \n",
      "He                  He                  \n",
      "was                 be                  \n",
      "running             run                 \n",
      "and                 and                 \n",
      "eating              eat                 \n",
      "at                  at                  \n",
      "same                same                \n",
      "time                time                \n",
      "He                  He                  \n",
      "has                 have                \n",
      "bad                 bad                 \n",
      "habit               habit               \n",
      "of                  of                  \n",
      "swimming            swim                \n",
      "after               after               \n",
      "playing             play                \n",
      "long                long                \n",
      "hours               hours               \n",
      "in                  in                  \n",
      "the                 the                 \n",
      "Sun                 Sun                 \n"
     ]
    }
   ],
   "source": [
    "# We Will Import WordNetLemmatizer from NLTK Library.\n",
    "from nltk.stem import WordNetLemmatizer\n",
    "# Intilize Lemmatizer\n",
    "wordnet_lemmatizer = WordNetLemmatizer()\n",
    "\n",
    "# Sentence \n",
    "sentence = \"He was running and eating at same time. He has bad habit of swimming after playing long hours in the Sun.\"\n",
    "\n",
    "# Intilize Punctuation\n",
    "punctuations=\"?:!.,;\"\n",
    "\n",
    "# Tokenize Word\n",
    "sentence_words = nltk.word_tokenize(sentence)\n",
    "\n",
    "# Using a Loop to Remove Punctuations.\n",
    "for word in sentence_words:\n",
    "    if word in punctuations:\n",
    "        sentence_words.remove(word)\n",
    "# Printing Word and Lemmatized Word\n",
    "print(\"{0:20}{1:20}\".format(\"Word\",\"Lemma\"))\n",
    "for word in sentence_words:\n",
    "    print (\"{0:20}{1:20}\".format(word,wordnet_lemmatizer.lemmatize(word,pos='v')))"
   ]
  },
  {
   "cell_type": "markdown",
   "id": "314f0dc4",
   "metadata": {},
   "source": [
    "# Some Common Terms¶\n",
    "a. Corpus: The entire collection of text data, comprising all documents or texts under consideration.\n",
    "b. Vocabulary: The set of unique words present in the corpus.\n",
    "c. Document: Each individual piece of text in the corpus, such as a review, article, or sentence.\n",
    "d. Word: The basic unit of textual data, representing a single element of meaning."
   ]
  },
  {
   "cell_type": "code",
   "execution_count": 22,
   "id": "a12450b8",
   "metadata": {},
   "outputs": [
    {
     "name": "stdout",
     "output_type": "stream",
     "text": [
      "The Lenght of the Corpus is : 50000\n"
     ]
    }
   ],
   "source": [
    "# First of all we made a corpus of All words \n",
    "corpus = []\n",
    "\n",
    "# Run a Loop and Append Reviews in corpus\n",
    "for i in range(len(df)):\n",
    "    review = re.sub('[^a-zA-Z]', ' ', df['review_stemmed'][i])\n",
    "    review = review.split()\n",
    "    review = ' '.join(review)\n",
    "    corpus.append(review)\n",
    "\n",
    "# Len Of Corpus\n",
    "print(f'The Lenght of the Corpus is : {len(corpus)}')"
   ]
  },
  {
   "cell_type": "code",
   "execution_count": 23,
   "id": "058c60a0",
   "metadata": {},
   "outputs": [
    {
     "name": "stdout",
     "output_type": "stream",
     "text": [
      "Total words in Corpus is : 6373274\n"
     ]
    }
   ],
   "source": [
    "# Total number of words in corpus\n",
    "# Initialize total_words counter\n",
    "total_words = 0\n",
    "\n",
    "# Iterate through each element in the corpus list\n",
    "for text in corpus:\n",
    "    # Split the text into words and update the total_words counter\n",
    "    total_words += len(text.split())\n",
    "\n",
    "# Print the total number of words\n",
    "print(f\"Total words in Corpus is : {total_words}\")"
   ]
  },
  {
   "cell_type": "code",
   "execution_count": 24,
   "id": "c38bfc0e",
   "metadata": {},
   "outputs": [
    {
     "data": {
      "text/plain": [
       "'wonder littl production the film techniqu unassuming old time bbc fashion give comforting sometim discomforting sens realism entir piece the actor extrem well chosen michael sheen ha got polari voic pat too truli see seamless edit guid refer williams diari entries well worth watch terrificli written perform piece master product one great master comedi life the realism realli come home littl things fantasi guard which rather use tradit dream techniqu remain solid disappears play knowledg senses particularli scene concern orton halliwel set particularli flat halliwell mural decor everi surface terribl well done'"
      ]
     },
     "execution_count": 24,
     "metadata": {},
     "output_type": "execute_result"
    }
   ],
   "source": [
    "# head\n",
    "corpus[1]"
   ]
  },
  {
   "cell_type": "markdown",
   "id": "06a2f4c3",
   "metadata": {},
   "source": [
    "# Vocabulary"
   ]
  },
  {
   "cell_type": "code",
   "execution_count": 25,
   "id": "07c3af93",
   "metadata": {},
   "outputs": [
    {
     "name": "stdout",
     "output_type": "stream",
     "text": [
      "The Lenght of the Vocabulary  is : 97876\n"
     ]
    }
   ],
   "source": [
    "# Let's find the unique words in the corpus\n",
    "vocabulary = set()\n",
    "\n",
    "# Apply vocabulary\n",
    "for review in corpus:\n",
    "    # Split the review into words\n",
    "    words = review.split()\n",
    "    # Update the vocabulary set with unique words from the review\n",
    "    vocabulary.update(words)\n",
    "\n",
    "# Convert the set back to a list if needed\n",
    "vocabulary = list(vocabulary)\n",
    "\n",
    "# Lenght of Vocab\n",
    "print(f'The Lenght of the Vocabulary  is : {len(vocabulary)}')"
   ]
  },
  {
   "cell_type": "code",
   "execution_count": 26,
   "id": "e5a3d112",
   "metadata": {},
   "outputs": [
    {
     "data": {
      "text/plain": [
       "['assecori',\n",
       " 'forgets',\n",
       " 'warnerscop',\n",
       " 'unveils',\n",
       " 'responsabilities',\n",
       " 'chakotay',\n",
       " 'fargan',\n",
       " 'grayfriar',\n",
       " 'flaunt',\n",
       " 'appareantli',\n",
       " 'rodriques',\n",
       " 'tribute',\n",
       " 'edifices',\n",
       " 'arbitrarili',\n",
       " 'defraud',\n",
       " 'rescind',\n",
       " 'beelin',\n",
       " 'inclusiveness',\n",
       " 'lotth',\n",
       " 'premarit']"
      ]
     },
     "execution_count": 26,
     "metadata": {},
     "output_type": "execute_result"
    }
   ],
   "source": [
    "# Head of Vocab\n",
    "vocabulary[0:20]"
   ]
  },
  {
   "cell_type": "code",
   "execution_count": 27,
   "id": "bcd11eba",
   "metadata": {},
   "outputs": [
    {
     "data": {
      "text/plain": [
       "'\"ardh satya\" one finest film ever made indian cinema. directed great director govind nihalani, one successful hard hitting parallel cinema also turned commercial success. even today, ardh satya inspiration leading directors india.the film tells real-life scenario mumbai police 70s. unlike police cities india, mumbai police encompasses different system altogether. govind nihalani creates practical outlay real life approach mumbai police environment.amongst various police officers & colleagues, film describes story anand velankar, young hot-blooded cop coming poor family. father harsh police constable. anand suffers father\\'s ideologies & incidences father\\'s atrocities mother. anand\\'s approach towards immediate action crime, inert craving job satisfaction. film revolved plot wherein anand\\'s constant efforts crime trampled seniors.this leads frustrations, cannot achieve desired job-satisfaction. resulting frustrations, anger expressed excessive violence remand rooms & bars, also turning alcoholic.the spirit within still alive, constantly fights system. aware system metro, police & politicians inertly associated far end. compromise towards unethical practice negative. finally gets suspended.the direction master piece & thoroughly hard core. one best memorable scenes anand breaks underworld gangster rama shetty\\'s house arrest him, followed short conversation fantastic. many scenes, film hair-raising moments.the practical approach script major punch. alcoholism, corruption, political influence, courage, deceptions integral part mumbai police even today. aspects dealt brilliantly.finally, films belongs one man show, om puri portraying anand velankar traversing emotions absolutely brilliantly.'"
      ]
     },
     "execution_count": 27,
     "metadata": {},
     "output_type": "execute_result"
    }
   ],
   "source": [
    "df['review'][31]"
   ]
  },
  {
   "cell_type": "code",
   "execution_count": 28,
   "id": "4fc6eaab",
   "metadata": {},
   "outputs": [
    {
     "data": {
      "text/plain": [
       "'\"ardh satya\" one finest film ever made indian cinema. directed great director govind nihalani, one successful hard hitting parallel cinema also turned commercial success. even today, ardh satya inspiration leading directors india.the film tells real-life scenario mumbai police 70s. unlike police cities india, mumbai police encompasses different system altogether. govind nihalani creates practical outlay real life approach mumbai police environment.amongst various police officers & colleagues, film describes story anand velankar, young hot-blooded cop coming poor family. father harsh police constable. anand suffers father\\'s ideologies & incidences father\\'s atrocities mother. anand\\'s approach towards immediate action crime, inert craving job satisfaction. film revolved plot wherein anand\\'s constant efforts crime trampled seniors.this leads frustrations, cannot achieve desired job-satisfaction. resulting frustrations, anger expressed excessive violence remand rooms & bars, also turning alcoholic.the spirit within still alive, constantly fights system. aware system metro, police & politicians inertly associated far end. compromise towards unethical practice negative. finally gets suspended.the direction master piece & thoroughly hard core. one best memorable scenes anand breaks underworld gangster rama shetty\\'s house arrest him, followed short conversation fantastic. many scenes, film hair-raising moments.the practical approach script major punch. alcoholism, corruption, political influence, courage, deceptions integral part mumbai police even today. aspects dealt brilliantly.finally, films belongs one man show, om puri portraying anand velankar traversing emotions absolutely brilliantly.'"
      ]
     },
     "execution_count": 28,
     "metadata": {},
     "output_type": "execute_result"
    }
   ],
   "source": [
    "df['review'][31].lower()"
   ]
  },
  {
   "cell_type": "code",
   "execution_count": 29,
   "id": "42727f27",
   "metadata": {},
   "outputs": [
    {
     "data": {
      "text/plain": [
       "'\"ARDH SATYA\" ONE FINEST FILM EVER MADE INDIAN CINEMA. DIRECTED GREAT DIRECTOR GOVIND NIHALANI, ONE SUCCESSFUL HARD HITTING PARALLEL CINEMA ALSO TURNED COMMERCIAL SUCCESS. EVEN TODAY, ARDH SATYA INSPIRATION LEADING DIRECTORS INDIA.THE FILM TELLS REAL-LIFE SCENARIO MUMBAI POLICE 70S. UNLIKE POLICE CITIES INDIA, MUMBAI POLICE ENCOMPASSES DIFFERENT SYSTEM ALTOGETHER. GOVIND NIHALANI CREATES PRACTICAL OUTLAY REAL LIFE APPROACH MUMBAI POLICE ENVIRONMENT.AMONGST VARIOUS POLICE OFFICERS & COLLEAGUES, FILM DESCRIBES STORY ANAND VELANKAR, YOUNG HOT-BLOODED COP COMING POOR FAMILY. FATHER HARSH POLICE CONSTABLE. ANAND SUFFERS FATHER\\'S IDEOLOGIES & INCIDENCES FATHER\\'S ATROCITIES MOTHER. ANAND\\'S APPROACH TOWARDS IMMEDIATE ACTION CRIME, INERT CRAVING JOB SATISFACTION. FILM REVOLVED PLOT WHEREIN ANAND\\'S CONSTANT EFFORTS CRIME TRAMPLED SENIORS.THIS LEADS FRUSTRATIONS, CANNOT ACHIEVE DESIRED JOB-SATISFACTION. RESULTING FRUSTRATIONS, ANGER EXPRESSED EXCESSIVE VIOLENCE REMAND ROOMS & BARS, ALSO TURNING ALCOHOLIC.THE SPIRIT WITHIN STILL ALIVE, CONSTANTLY FIGHTS SYSTEM. AWARE SYSTEM METRO, POLICE & POLITICIANS INERTLY ASSOCIATED FAR END. COMPROMISE TOWARDS UNETHICAL PRACTICE NEGATIVE. FINALLY GETS SUSPENDED.THE DIRECTION MASTER PIECE & THOROUGHLY HARD CORE. ONE BEST MEMORABLE SCENES ANAND BREAKS UNDERWORLD GANGSTER RAMA SHETTY\\'S HOUSE ARREST HIM, FOLLOWED SHORT CONVERSATION FANTASTIC. MANY SCENES, FILM HAIR-RAISING MOMENTS.THE PRACTICAL APPROACH SCRIPT MAJOR PUNCH. ALCOHOLISM, CORRUPTION, POLITICAL INFLUENCE, COURAGE, DECEPTIONS INTEGRAL PART MUMBAI POLICE EVEN TODAY. ASPECTS DEALT BRILLIANTLY.FINALLY, FILMS BELONGS ONE MAN SHOW, OM PURI PORTRAYING ANAND VELANKAR TRAVERSING EMOTIONS ABSOLUTELY BRILLIANTLY.'"
      ]
     },
     "execution_count": 29,
     "metadata": {},
     "output_type": "execute_result"
    }
   ],
   "source": [
    "df['review'][31].upper()"
   ]
  },
  {
   "cell_type": "markdown",
   "id": "ea390dcd",
   "metadata": {},
   "source": [
    "# Tokenization"
   ]
  },
  {
   "cell_type": "markdown",
   "id": "7deda7c1",
   "metadata": {},
   "source": [
    "# NLTK is a Library used to tokenize text into sentences and words."
   ]
  },
  {
   "cell_type": "code",
   "execution_count": 30,
   "id": "3b606fb3",
   "metadata": {},
   "outputs": [],
   "source": [
    "# Import Libraray \n",
    "from nltk.tokenize import word_tokenize,sent_tokenize"
   ]
  },
  {
   "cell_type": "code",
   "execution_count": 31,
   "id": "0ac1a243",
   "metadata": {},
   "outputs": [
    {
     "data": {
      "text/plain": [
       "['I', 'am', 'going', 'to', 'visit', 'delhi', '!']"
      ]
     },
     "execution_count": 31,
     "metadata": {},
     "output_type": "execute_result"
    }
   ],
   "source": [
    "# Text\n",
    "sentence = 'I am going to visit delhi!'\n",
    "# Calling tool\n",
    "word_tokenize(sentence)"
   ]
  },
  {
   "cell_type": "code",
   "execution_count": 32,
   "id": "36b7bed2",
   "metadata": {},
   "outputs": [
    {
     "data": {
      "text/plain": [
       "['Lorem Ipsum is simply dummy text of the printing and typesetting industry?',\n",
       " \"Lorem Ipsum has been the industry's standard dummy text ever since the 1500s, \\nwhen an unknown printer took a galley of type and scrambled it to make a type specimen book.\"]"
      ]
     },
     "execution_count": 32,
     "metadata": {},
     "output_type": "execute_result"
    }
   ],
   "source": [
    "# Whole text Containing 2 or more Sentences\n",
    "text = \"\"\"Lorem Ipsum is simply dummy text of the printing and typesetting industry? \n",
    "Lorem Ipsum has been the industry's standard dummy text ever since the 1500s, \n",
    "when an unknown printer took a galley of type and scrambled it to make a type specimen book.\"\"\"\n",
    "\n",
    "# Sentence Based Tokenization\n",
    "sent_tokenize(text)"
   ]
  },
  {
   "cell_type": "code",
   "execution_count": 33,
   "id": "ca574fb8",
   "metadata": {},
   "outputs": [
    {
     "name": "stdout",
     "output_type": "stream",
     "text": [
      "['I', 'have', 'a', 'Ph.D', 'in', 'A.I']\n",
      "['We', \"'re\", 'here', 'to', 'help', '!', 'mail', 'us', 'at', 'nks', '@', 'gmail.com']\n",
      "['A', '5km', 'ride', 'cost', '$', '10.50']\n"
     ]
    }
   ],
   "source": [
    "# Some Sentences \n",
    "sent5 = 'I have a Ph.D in A.I'\n",
    "sent6 = \"We're here to help! mail us at nks@gmail.com\"\n",
    "sent7 = 'A 5km ride cost $10.50'\n",
    "\n",
    "# Word Tokenize the Sentences\n",
    "print(word_tokenize(sent5))\n",
    "print(word_tokenize(sent6))\n",
    "print(word_tokenize(sent7))"
   ]
  },
  {
   "cell_type": "markdown",
   "id": "639044b0",
   "metadata": {},
   "source": [
    "# Sentimental Analysis"
   ]
  },
  {
   "cell_type": "code",
   "execution_count": 34,
   "id": "f39e4045",
   "metadata": {},
   "outputs": [
    {
     "data": {
      "image/png": "[encoded data removed]",
      "text/plain": [
       "<Figure size 1800x900 with 1 Axes>"
      ]
     },
     "metadata": {},
     "output_type": "display_data"
    }
   ],
   "source": [
    "ax = df['sentiment'].value_counts().sort_index() \\\n",
    "          .plot(kind='bar',\n",
    "          title='Count of Reviews by sentiment',\n",
    "          figsize=(18, 9))\n",
    "ax.set_xlabel('review ')\n",
    "plt.show()"
   ]
  },
  {
   "cell_type": "code",
   "execution_count": 67,
   "id": "cf7dbb52",
   "metadata": {},
   "outputs": [
    {
     "name": "stdout",
     "output_type": "stream",
     "text": [
      "<class 'pandas.core.frame.DataFrame'>\n",
      "RangeIndex: 1000 entries, 0 to 999\n",
      "Data columns (total 5 columns):\n",
      " #   Column             Non-Null Count  Dtype \n",
      "---  ------             --------------  ----- \n",
      " 0   review             1000 non-null   object\n",
      " 1   sentiment          1000 non-null   object\n",
      " 2   review_word_token  1000 non-null   object\n",
      " 3   review_sent_token  1000 non-null   object\n",
      " 4   review_stemmed     1000 non-null   object\n",
      "dtypes: object(5)\n",
      "memory usage: 39.2+ KB\n",
      "None\n"
     ]
    }
   ],
   "source": [
    "print(df.info())"
   ]
  },
  {
   "cell_type": "code",
   "execution_count": 68,
   "id": "7f9a38a6",
   "metadata": {},
   "outputs": [
    {
     "name": "stdout",
     "output_type": "stream",
     "text": [
      "review               0\n",
      "sentiment            0\n",
      "review_word_token    0\n",
      "review_sent_token    0\n",
      "review_stemmed       0\n",
      "dtype: int64\n"
     ]
    }
   ],
   "source": [
    "# show the number of missing rows in each column\n",
    "print(df.isna().sum().sort_values(ascending=False))"
   ]
  },
  {
   "cell_type": "code",
   "execution_count": 69,
   "id": "f4773d75",
   "metadata": {},
   "outputs": [
    {
     "name": "stdout",
     "output_type": "stream",
     "text": [
      "['positive' 'negative']\n"
     ]
    }
   ],
   "source": [
    "# print unique values in the sentiment column\n",
    "print(df.sentiment.unique())"
   ]
  },
  {
   "cell_type": "code",
   "execution_count": 70,
   "id": "70ff8f2e",
   "metadata": {},
   "outputs": [
    {
     "data": {
      "text/plain": [
       "sentiment\n",
       "positive    0.501\n",
       "negative    0.499\n",
       "Name: proportion, dtype: float64"
      ]
     },
     "execution_count": 70,
     "metadata": {},
     "output_type": "execute_result"
    }
   ],
   "source": [
    "# print the proportion of positive and negative sentiments in the data set\n",
    "df.sentiment.value_counts(ascending=False, normalize=True)"
   ]
  },
  {
   "cell_type": "code",
   "execution_count": 71,
   "id": "8bde5740",
   "metadata": {},
   "outputs": [],
   "source": [
    "import matplotlib.pyplot as plt\n",
    "import seaborn as sns\n",
    "\n",
    "sns.set_theme(style='ticks', palette='BrBG')"
   ]
  },
  {
   "cell_type": "code",
   "execution_count": 72,
   "id": "495a83ec",
   "metadata": {},
   "outputs": [
    {
     "data": {
      "image/png": "[encoded data removed]",
      "text/plain": [
       "<Figure size 640x480 with 1 Axes>"
      ]
     },
     "metadata": {},
     "output_type": "display_data"
    }
   ],
   "source": [
    "sns.countplot(data=df, y='sentiment')\\\n",
    "   .set(title='Count of Positive vs Negative Reviews')\n",
    "\n",
    "plt.show()"
   ]
  },
  {
   "cell_type": "code",
   "execution_count": 35,
   "id": "2c8b3057",
   "metadata": {},
   "outputs": [
    {
     "name": "stdout",
     "output_type": "stream",
     "text": [
      "(1000, 5)\n"
     ]
    }
   ],
   "source": [
    "#Downscale\n",
    "df = df.head(1000)\n",
    "print(df.shape)"
   ]
  },
  {
   "cell_type": "code",
   "execution_count": 36,
   "id": "2e088139",
   "metadata": {},
   "outputs": [
    {
     "name": "stdout",
     "output_type": "stream",
     "text": [
      "\"fate\" leads walter sparrow come possession mysterious novel eerie similarities connections life, based around number 23. story unfolds real life fiction, sparrow must figure connection book story eventually end.the number 23 offers intriguing premise undone weak execution. film failed many different levels pretty disappointing held much potential. screenplay probably worst part it. filled silly sequences laughable dialog killed mood movie. seemed like screenwriter good idea, know develop stretch ninety minute running time. second half film running low ideas, twist pretty obvious ending awful.joel schumacher responsible one worst movies ever redeem little phone booth films number 23 reminds he's still capable making stinker. movie drenched style can't get good focus. moves film clunky slow pace. switches reality what's actually happening book quickly got annoying. actual book film that's titled \"the number 23\" awful detective story audience gets stuck listening carrey narrate bored tears. carrey finally done book, get stuck watching run around trying solve mystery. point, audience lost interest real tension. impatiently wait movie reach horrible ending unconvincing explanation celebrating film finally finished.the acting mostly average pretty forgettable. jim carrey clearly sleepwalking performance even seem trying. either completely top scenes wooden. narration complete bore listen put life inside character. virginia madsen best could limited role needs pick better scripts. logan lerman pretty bland danny huston. overall, number 23 awful thriller offered laughs suspense thrills. rating 3/10\n"
     ]
    }
   ],
   "source": [
    "example = df['review'][83]\n",
    "print(example)"
   ]
  },
  {
   "cell_type": "code",
   "execution_count": 37,
   "id": "efd5a650",
   "metadata": {},
   "outputs": [
    {
     "data": {
      "text/plain": [
       "['``',\n",
       " 'fate',\n",
       " \"''\",\n",
       " 'leads',\n",
       " 'walter',\n",
       " 'sparrow',\n",
       " 'come',\n",
       " 'possession',\n",
       " 'mysterious',\n",
       " 'novel',\n",
       " 'eerie',\n",
       " 'similarities']"
      ]
     },
     "execution_count": 37,
     "metadata": {},
     "output_type": "execute_result"
    }
   ],
   "source": [
    "tokens = nltk.word_tokenize(example)\n",
    "tokens[:12]"
   ]
  },
  {
   "cell_type": "code",
   "execution_count": 38,
   "id": "d7f7dbf0",
   "metadata": {},
   "outputs": [
    {
     "data": {
      "text/plain": [
       "[('suspense', 'JJ'),\n",
       " ('thrills', 'NNS'),\n",
       " ('.', '.'),\n",
       " ('rating', 'NN'),\n",
       " ('3/10', 'CD')]"
      ]
     },
     "execution_count": 38,
     "metadata": {},
     "output_type": "execute_result"
    }
   ],
   "source": [
    "tagged = nltk.pos_tag(tokens)\n",
    "tagged[-5:]"
   ]
  },
  {
   "cell_type": "code",
   "execution_count": 39,
   "id": "ff5a416b",
   "metadata": {},
   "outputs": [
    {
     "name": "stdout",
     "output_type": "stream",
     "text": [
      "(S\n",
      "  ``/``\n",
      "  fate/NN\n",
      "  ''/''\n",
      "  leads/VBZ\n",
      "  walter/NN\n",
      "  sparrow/NN\n",
      "  come/VBN\n",
      "  possession/NN\n",
      "  mysterious/JJ\n",
      "  novel/JJ\n",
      "  eerie/NN\n",
      "  similarities/NNS\n",
      "  connections/NNS\n",
      "  life/NN\n",
      "  ,/,\n",
      "  based/VBN\n",
      "  around/IN\n",
      "  number/NN\n",
      "  23./CD\n",
      "  story/NN\n",
      "  unfolds/NNS\n",
      "  real/JJ\n",
      "  life/NN\n",
      "  fiction/NN\n",
      "  ,/,\n",
      "  sparrow/VB\n",
      "  must/MD\n",
      "  figure/VB\n",
      "  connection/NN\n",
      "  book/NN\n",
      "  story/NN\n",
      "  eventually/RB\n",
      "  end.the/JJ\n",
      "  number/NN\n",
      "  23/CD\n",
      "  offers/NNS\n",
      "  intriguing/JJ\n",
      "  premise/NN\n",
      "  undone/NN\n",
      "  weak/JJ\n",
      "  execution/NN\n",
      "  ./.\n",
      "  film/NN\n",
      "  failed/VBD\n",
      "  many/JJ\n",
      "  different/JJ\n",
      "  levels/NNS\n",
      "  pretty/RB\n",
      "  disappointing/VBG\n",
      "  held/VBN\n",
      "  much/JJ\n",
      "  potential/NN\n",
      "  ./.\n",
      "  screenplay/NN\n",
      "  probably/RB\n",
      "  worst/JJS\n",
      "  part/NN\n",
      "  it/PRP\n",
      "  ./.\n",
      "  filled/VBN\n",
      "  silly/RB\n",
      "  sequences/NNS\n",
      "  laughable/JJ\n",
      "  dialog/NN\n",
      "  killed/VBD\n",
      "  mood/NN\n",
      "  movie/NN\n",
      "  ./.\n",
      "  seemed/VBN\n",
      "  like/IN\n",
      "  screenwriter/NN\n",
      "  good/JJ\n",
      "  idea/NN\n",
      "  ,/,\n",
      "  know/VBP\n",
      "  develop/VB\n",
      "  stretch/JJ\n",
      "  ninety/NN\n",
      "  minute/NN\n",
      "  running/VBG\n",
      "  time/NN\n",
      "  ./.\n",
      "  second/JJ\n",
      "  half/NN\n",
      "  film/NN\n",
      "  running/VBG\n",
      "  low/JJ\n",
      "  ideas/NNS\n",
      "  ,/,\n",
      "  twist/NN\n",
      "  pretty/RB\n",
      "  obvious/JJ\n",
      "  ending/VBG\n",
      "  awful.joel/NN\n",
      "  schumacher/CC\n",
      "  responsible/JJ\n",
      "  one/CD\n",
      "  worst/JJS\n",
      "  movies/NNS\n",
      "  ever/RB\n",
      "  redeem/VBP\n",
      "  little/JJ\n",
      "  phone/NN\n",
      "  booth/DT\n",
      "  films/NNS\n",
      "  number/NN\n",
      "  23/CD\n",
      "  reminds/VBZ\n",
      "  he/PRP\n",
      "  's/VBZ\n",
      "  still/RB\n",
      "  capable/JJ\n",
      "  making/VBG\n",
      "  stinker/NN\n",
      "  ./.\n",
      "  movie/NN\n",
      "  drenched/VBD\n",
      "  style/NN\n",
      "  ca/MD\n",
      "  n't/RB\n",
      "  get/VB\n",
      "  good/JJ\n",
      "  focus/NN\n",
      "  ./.\n",
      "  moves/NNS\n",
      "  film/NN\n",
      "  clunky/VBP\n",
      "  slow/JJ\n",
      "  pace/NN\n",
      "  ./.\n",
      "  switches/NNS\n",
      "  reality/VBP\n",
      "  what/WP\n",
      "  's/VBZ\n",
      "  actually/RB\n",
      "  happening/VBG\n",
      "  book/NN\n",
      "  quickly/RB\n",
      "  got/VBD\n",
      "  annoying/VBG\n",
      "  ./.\n",
      "  actual/JJ\n",
      "  book/NN\n",
      "  film/NN\n",
      "  that/WDT\n",
      "  's/VBZ\n",
      "  titled/VBN\n",
      "  ``/``\n",
      "  the/DT\n",
      "  number/NN\n",
      "  23/CD\n",
      "  ''/''\n",
      "  awful/JJ\n",
      "  detective/JJ\n",
      "  story/NN\n",
      "  audience/NN\n",
      "  gets/VBZ\n",
      "  stuck/JJ\n",
      "  listening/VBG\n",
      "  carrey/JJ\n",
      "  narrate/JJ\n",
      "  bored/VBN\n",
      "  tears/NNS\n",
      "  ./.\n",
      "  carrey/VB\n",
      "  finally/RB\n",
      "  done/VBN\n",
      "  book/NN\n",
      "  ,/,\n",
      "  get/VB\n",
      "  stuck/JJ\n",
      "  watching/VBG\n",
      "  run/NN\n",
      "  around/RB\n",
      "  trying/VBG\n",
      "  solve/VB\n",
      "  mystery/NN\n",
      "  ./.\n",
      "  point/NN\n",
      "  ,/,\n",
      "  audience/NN\n",
      "  lost/VBD\n",
      "  interest/NN\n",
      "  real/JJ\n",
      "  tension/NN\n",
      "  ./.\n",
      "  impatiently/RB\n",
      "  wait/JJ\n",
      "  movie/NN\n",
      "  reach/NN\n",
      "  horrible/JJ\n",
      "  ending/VBG\n",
      "  unconvincing/JJ\n",
      "  explanation/NN\n",
      "  celebrating/NN\n",
      "  film/NN\n",
      "  finally/RB\n",
      "  finished.the/JJ\n",
      "  acting/VBG\n",
      "  mostly/RB\n",
      "  average/JJ\n",
      "  pretty/RB\n",
      "  forgettable/JJ\n",
      "  ./.\n",
      "  jim/NN\n",
      "  carrey/VBD\n",
      "  clearly/RB\n",
      "  sleepwalking/VBG\n",
      "  performance/NN\n",
      "  even/RB\n",
      "  seem/VBP\n",
      "  trying/VBG\n",
      "  ./.\n",
      "  either/CC\n",
      "  completely/RB\n",
      "  top/JJ\n",
      "  scenes/NNS\n",
      "  wooden/RB\n",
      "  ./.\n",
      "  narration/NN\n",
      "  complete/JJ\n",
      "  bore/RB\n",
      "  listen/JJ\n",
      "  put/VBD\n",
      "  life/NN\n",
      "  inside/IN\n",
      "  character/NN\n",
      "  ./.\n",
      "  virginia/NN\n",
      "  madsen/NN\n",
      "  best/JJS\n",
      "  could/MD\n",
      "  limited/JJ\n",
      "  role/NN\n",
      "  needs/NNS\n",
      "  pick/VBP\n",
      "  better/JJR\n",
      "  scripts/NNS\n",
      "  ./.\n",
      "  logan/JJ\n",
      "  lerman/JJ\n",
      "  pretty/NN\n",
      "  bland/NN\n",
      "  danny/JJ\n",
      "  huston/NN\n",
      "  ./.\n",
      "  overall/JJ\n",
      "  ,/,\n",
      "  number/NN\n",
      "  23/CD\n",
      "  awful/JJ\n",
      "  thriller/NN\n",
      "  offered/VBD\n",
      "  laughs/NNS\n",
      "  suspense/JJ\n",
      "  thrills/NNS\n",
      "  ./.\n",
      "  rating/NN\n",
      "  3/10/CD)\n"
     ]
    }
   ],
   "source": [
    "entities = nltk.chunk.ne_chunk(tagged)\n",
    "print(entities)\n",
    "#entities.pprint()"
   ]
  },
  {
   "cell_type": "code",
   "execution_count": 40,
   "id": "7690e677",
   "metadata": {},
   "outputs": [],
   "source": [
    "from nltk.sentiment import SentimentIntensityAnalyzer\n",
    "from tqdm.notebook import tqdm\n",
    "\n",
    "sia = SentimentIntensityAnalyzer()"
   ]
  },
  {
   "cell_type": "code",
   "execution_count": 41,
   "id": "5e477dd8",
   "metadata": {},
   "outputs": [
    {
     "data": {
      "text/plain": [
       "{'neg': 0.0, 'neu': 0.319, 'pos': 0.681, 'compound': 0.8927}"
      ]
     },
     "execution_count": 41,
     "metadata": {},
     "output_type": "execute_result"
    }
   ],
   "source": [
    "sia.polarity_scores('This dress is perfection! so pretty and flattering.')"
   ]
  },
  {
   "cell_type": "code",
   "execution_count": 42,
   "id": "52a6d2ce",
   "metadata": {},
   "outputs": [
    {
     "data": {
      "text/plain": [
       "{'neg': 0.0, 'neu': 0.543, 'pos': 0.457, 'compound': 0.9148}"
      ]
     },
     "execution_count": 42,
     "metadata": {},
     "output_type": "execute_result"
    }
   ],
   "source": [
    "sia.polarity_scores('Beautifully made pants and on trend with the flared crop. so much cuter in person. love these!')"
   ]
  },
  {
   "cell_type": "code",
   "execution_count": 43,
   "id": "6323ffff",
   "metadata": {},
   "outputs": [
    {
     "data": {
      "text/plain": [
       "{'neg': 0.201, 'neu': 0.581, 'pos': 0.218, 'compound': -0.228}"
      ]
     },
     "execution_count": 43,
     "metadata": {},
     "output_type": "execute_result"
    }
   ],
   "source": [
    "sia.polarity_scores(example)"
   ]
  },
  {
   "cell_type": "code",
   "execution_count": 44,
   "id": "448f34e6",
   "metadata": {},
   "outputs": [
    {
     "data": {
      "application/vnd.jupyter.widget-view+json": {
       "model_id": "2ca202e028bb4106a7455bbb4b4b1914",
       "version_major": 2,
       "version_minor": 0
      },
      "text/plain": [
       "  0%|          | 0/1000 [00:00<?, ?it/s]"
      ]
     },
     "metadata": {},
     "output_type": "display_data"
    }
   ],
   "source": [
    "# Run the polarity score on the entire dataset\n",
    "extdata = {}\n",
    "for i, row in tqdm(df.iterrows(), total=len(df)):\n",
    "    text = str(row['review'])  # Convert to string\n",
    "    myid = row['sentiment']\n",
    "    extdata[myid] = sia.polarity_scores(text)"
   ]
  },
  {
   "cell_type": "code",
   "execution_count": 45,
   "id": "f1506714",
   "metadata": {},
   "outputs": [],
   "source": [
    "vaders = pd.DataFrame(extdata).T\n",
    "vaders = vaders.reset_index().rename(columns={'index': 'sentiment'})\n",
    "vaders = vaders.merge(df, how='left')"
   ]
  },
  {
   "cell_type": "code",
   "execution_count": 46,
   "id": "0c9f11fd",
   "metadata": {},
   "outputs": [
    {
     "data": {
      "text/html": [
       "<div>\n",
       "<style scoped>\n",
       "    .dataframe tbody tr th:only-of-type {\n",
       "        vertical-align: middle;\n",
       "    }\n",
       "\n",
       "    .dataframe tbody tr th {\n",
       "        vertical-align: top;\n",
       "    }\n",
       "\n",
       "    .dataframe thead th {\n",
       "        text-align: right;\n",
       "    }\n",
       "</style>\n",
       "<table border=\"1\" class=\"dataframe\">\n",
       "  <thead>\n",
       "    <tr style=\"text-align: right;\">\n",
       "      <th></th>\n",
       "      <th>sentiment</th>\n",
       "      <th>neg</th>\n",
       "      <th>neu</th>\n",
       "      <th>pos</th>\n",
       "      <th>compound</th>\n",
       "      <th>review</th>\n",
       "      <th>review_word_token</th>\n",
       "      <th>review_sent_token</th>\n",
       "      <th>review_stemmed</th>\n",
       "    </tr>\n",
       "  </thead>\n",
       "  <tbody>\n",
       "    <tr>\n",
       "      <th>0</th>\n",
       "      <td>positive</td>\n",
       "      <td>0.126</td>\n",
       "      <td>0.769</td>\n",
       "      <td>0.105</td>\n",
       "      <td>-0.6041</td>\n",
       "      <td>one reviewers mentioned watching 1 oz episode ...</td>\n",
       "      <td>[one, reviewers, mentioned, watching, 1, oz, e...</td>\n",
       "      <td>[one reviewers mentioned watching 1 oz episode...</td>\n",
       "      <td>one review mention watch 1 oz episod hooked. r...</td>\n",
       "    </tr>\n",
       "    <tr>\n",
       "      <th>1</th>\n",
       "      <td>positive</td>\n",
       "      <td>0.126</td>\n",
       "      <td>0.769</td>\n",
       "      <td>0.105</td>\n",
       "      <td>-0.6041</td>\n",
       "      <td>wonderful little production. the filming techn...</td>\n",
       "      <td>[wonderful, little, production, ., the, filmin...</td>\n",
       "      <td>[wonderful little production., the filming tec...</td>\n",
       "      <td>wonder littl production. the film techniqu una...</td>\n",
       "    </tr>\n",
       "    <tr>\n",
       "      <th>2</th>\n",
       "      <td>positive</td>\n",
       "      <td>0.126</td>\n",
       "      <td>0.769</td>\n",
       "      <td>0.105</td>\n",
       "      <td>-0.6041</td>\n",
       "      <td>thought wonderful way spend Tears in my eyes h...</td>\n",
       "      <td>[thought, wonderful, way, spend, Tears, in, my...</td>\n",
       "      <td>[thought wonderful way spend Tears in my eyes ...</td>\n",
       "      <td>thought wonder way spend tear in my eye hot su...</td>\n",
       "    </tr>\n",
       "    <tr>\n",
       "      <th>3</th>\n",
       "      <td>positive</td>\n",
       "      <td>0.126</td>\n",
       "      <td>0.769</td>\n",
       "      <td>0.105</td>\n",
       "      <td>-0.6041</td>\n",
       "      <td>petter mattei's \"love Tears in my eyes money\" ...</td>\n",
       "      <td>[petter, mattei, 's, ``, love, Tears, in, my, ...</td>\n",
       "      <td>[petter mattei's \"love Tears in my eyes money\"...</td>\n",
       "      <td>petter mattei' \"love tear in my eye money\" vis...</td>\n",
       "    </tr>\n",
       "    <tr>\n",
       "      <th>4</th>\n",
       "      <td>positive</td>\n",
       "      <td>0.126</td>\n",
       "      <td>0.769</td>\n",
       "      <td>0.105</td>\n",
       "      <td>-0.6041</td>\n",
       "      <td>probably all-time favorite movie, story selfle...</td>\n",
       "      <td>[probably, all-time, favorite, movie, ,, story...</td>\n",
       "      <td>[probably all-time favorite movie, story selfl...</td>\n",
       "      <td>probabl all-tim favorit movie, stori selflessn...</td>\n",
       "    </tr>\n",
       "  </tbody>\n",
       "</table>\n",
       "</div>"
      ],
      "text/plain": [
       "  sentiment    neg    neu    pos  compound  \\\n",
       "0  positive  0.126  0.769  0.105   -0.6041   \n",
       "1  positive  0.126  0.769  0.105   -0.6041   \n",
       "2  positive  0.126  0.769  0.105   -0.6041   \n",
       "3  positive  0.126  0.769  0.105   -0.6041   \n",
       "4  positive  0.126  0.769  0.105   -0.6041   \n",
       "\n",
       "                                              review  \\\n",
       "0  one reviewers mentioned watching 1 oz episode ...   \n",
       "1  wonderful little production. the filming techn...   \n",
       "2  thought wonderful way spend Tears in my eyes h...   \n",
       "3  petter mattei's \"love Tears in my eyes money\" ...   \n",
       "4  probably all-time favorite movie, story selfle...   \n",
       "\n",
       "                                   review_word_token  \\\n",
       "0  [one, reviewers, mentioned, watching, 1, oz, e...   \n",
       "1  [wonderful, little, production, ., the, filmin...   \n",
       "2  [thought, wonderful, way, spend, Tears, in, my...   \n",
       "3  [petter, mattei, 's, ``, love, Tears, in, my, ...   \n",
       "4  [probably, all-time, favorite, movie, ,, story...   \n",
       "\n",
       "                                   review_sent_token  \\\n",
       "0  [one reviewers mentioned watching 1 oz episode...   \n",
       "1  [wonderful little production., the filming tec...   \n",
       "2  [thought wonderful way spend Tears in my eyes ...   \n",
       "3  [petter mattei's \"love Tears in my eyes money\"...   \n",
       "4  [probably all-time favorite movie, story selfl...   \n",
       "\n",
       "                                      review_stemmed  \n",
       "0  one review mention watch 1 oz episod hooked. r...  \n",
       "1  wonder littl production. the film techniqu una...  \n",
       "2  thought wonder way spend tear in my eye hot su...  \n",
       "3  petter mattei' \"love tear in my eye money\" vis...  \n",
       "4  probabl all-tim favorit movie, stori selflessn...  "
      ]
     },
     "execution_count": 46,
     "metadata": {},
     "output_type": "execute_result"
    }
   ],
   "source": [
    "# Now we have sentiment score and metadata\n",
    "vaders.head()"
   ]
  },
  {
   "cell_type": "code",
   "execution_count": 47,
   "id": "bf4aedfc",
   "metadata": {},
   "outputs": [
    {
     "data": {
      "image/png": "[encoded data removed]",
      "text/plain": [
       "<Figure size 640x480 with 1 Axes>"
      ]
     },
     "metadata": {},
     "output_type": "display_data"
    }
   ],
   "source": [
    "ax = sns.barplot(data=vaders, x='sentiment', y='compound')\n",
    "ax.set_title('IMDB review')\n",
    "plt.show()"
   ]
  },
  {
   "cell_type": "code",
   "execution_count": 48,
   "id": "3b866fdb",
   "metadata": {},
   "outputs": [
    {
     "data": {
      "image/png": "[encoded data removed]",
      "text/plain": [
       "<Figure size 1200x300 with 3 Axes>"
      ]
     },
     "metadata": {},
     "output_type": "display_data"
    }
   ],
   "source": [
    "fig, axs = plt.subplots(1, 3, figsize=(12, 3))\n",
    "sns.barplot(data=vaders, x='sentiment', y='pos', ax=axs[0])\n",
    "sns.barplot(data=vaders, x='sentiment', y='neu', ax=axs[1])\n",
    "sns.barplot(data=vaders, x='sentiment', y='neg', ax=axs[2])\n",
    "axs[0].set_title('Positive')\n",
    "axs[1].set_title('Neutral')\n",
    "axs[2].set_title('Negative')\n",
    "plt.tight_layout()\n",
    "plt.show()"
   ]
  },
  {
   "cell_type": "code",
   "execution_count": 49,
   "id": "03878505",
   "metadata": {},
   "outputs": [],
   "source": [
    "from transformers import AutoTokenizer\n",
    "from transformers import AutoModelForSequenceClassification\n",
    "from scipy.special import softmax"
   ]
  },
  {
   "cell_type": "code",
   "execution_count": 50,
   "id": "f104e53e",
   "metadata": {},
   "outputs": [
    {
     "name": "stderr",
     "output_type": "stream",
     "text": [
      "C:\\Users\\jhaab\\anaconda3\\Lib\\site-packages\\transformers\\utils\\generic.py:260: UserWarning: torch.utils._pytree._register_pytree_node is deprecated. Please use torch.utils._pytree.register_pytree_node instead.\n",
      "  torch.utils._pytree._register_pytree_node(\n",
      "C:\\Users\\jhaab\\anaconda3\\Lib\\site-packages\\transformers\\utils\\generic.py:260: UserWarning: torch.utils._pytree._register_pytree_node is deprecated. Please use torch.utils._pytree.register_pytree_node instead.\n",
      "  torch.utils._pytree._register_pytree_node(\n"
     ]
    }
   ],
   "source": [
    "MODEL = f\"cardiffnlp/twitter-roberta-base-sentiment\"\n",
    "tokenizer = AutoTokenizer.from_pretrained(MODEL)\n",
    "model = AutoModelForSequenceClassification.from_pretrained(MODEL)"
   ]
  },
  {
   "cell_type": "code",
   "execution_count": 51,
   "id": "cf87bebe",
   "metadata": {},
   "outputs": [
    {
     "name": "stdout",
     "output_type": "stream",
     "text": [
      "\"fate\" leads walter sparrow come possession mysterious novel eerie similarities connections life, based around number 23. story unfolds real life fiction, sparrow must figure connection book story eventually end.the number 23 offers intriguing premise undone weak execution. film failed many different levels pretty disappointing held much potential. screenplay probably worst part it. filled silly sequences laughable dialog killed mood movie. seemed like screenwriter good idea, know develop stretch ninety minute running time. second half film running low ideas, twist pretty obvious ending awful.joel schumacher responsible one worst movies ever redeem little phone booth films number 23 reminds he's still capable making stinker. movie drenched style can't get good focus. moves film clunky slow pace. switches reality what's actually happening book quickly got annoying. actual book film that's titled \"the number 23\" awful detective story audience gets stuck listening carrey narrate bored tears. carrey finally done book, get stuck watching run around trying solve mystery. point, audience lost interest real tension. impatiently wait movie reach horrible ending unconvincing explanation celebrating film finally finished.the acting mostly average pretty forgettable. jim carrey clearly sleepwalking performance even seem trying. either completely top scenes wooden. narration complete bore listen put life inside character. virginia madsen best could limited role needs pick better scripts. logan lerman pretty bland danny huston. overall, number 23 awful thriller offered laughs suspense thrills. rating 3/10\n"
     ]
    },
    {
     "data": {
      "text/plain": [
       "{'neg': 0.201, 'neu': 0.581, 'pos': 0.218, 'compound': -0.228}"
      ]
     },
     "execution_count": 51,
     "metadata": {},
     "output_type": "execute_result"
    }
   ],
   "source": [
    "# VADER results on example\n",
    "print(example)\n",
    "sia.polarity_scores(example)"
   ]
  },
  {
   "cell_type": "code",
   "execution_count": 52,
   "id": "15b95f38",
   "metadata": {},
   "outputs": [
    {
     "name": "stdout",
     "output_type": "stream",
     "text": [
      "{'roberta_neg': 0.88213444, 'roberta_neu': 0.104815535, 'roberta_pos': 0.013050038}\n"
     ]
    }
   ],
   "source": [
    "# Run for Roberta Model\n",
    "encoded_text = tokenizer(example, return_tensors='pt')\n",
    "#print(encoded text)\n",
    "output = model(**encoded_text)\n",
    "scores = output[0][0].detach().numpy()\n",
    "scores = softmax(scores)\n",
    "scores_dict = {\n",
    "    'roberta_neg' : scores[0],\n",
    "    'roberta_neu' : scores[1],\n",
    "    'roberta_pos' : scores[2]\n",
    "}\n",
    "print(scores_dict)"
   ]
  },
  {
   "cell_type": "code",
   "execution_count": 53,
   "id": "2a8c07ec",
   "metadata": {},
   "outputs": [],
   "source": [
    "def polarity_scores_roberta(example):\n",
    "    encoded_text = tokenizer(example, return_tensors='pt')\n",
    "    output = model(**encoded_text)\n",
    "    scores = output[0][0].detach().numpy()\n",
    "    scores = softmax(scores)\n",
    "    scores_dict = {\n",
    "        'roberta_neg' : scores[0],\n",
    "        'roberta_neu' : scores[1],\n",
    "        'roberta_pos' : scores[2]\n",
    "    }\n",
    "    return scores_dict"
   ]
  },
  {
   "cell_type": "code",
   "execution_count": 54,
   "id": "b27a4795",
   "metadata": {},
   "outputs": [
    {
     "data": {
      "text/html": [
       "<div>\n",
       "<style scoped>\n",
       "    .dataframe tbody tr th:only-of-type {\n",
       "        vertical-align: middle;\n",
       "    }\n",
       "\n",
       "    .dataframe tbody tr th {\n",
       "        vertical-align: top;\n",
       "    }\n",
       "\n",
       "    .dataframe thead th {\n",
       "        text-align: right;\n",
       "    }\n",
       "</style>\n",
       "<table border=\"1\" class=\"dataframe\">\n",
       "  <thead>\n",
       "    <tr style=\"text-align: right;\">\n",
       "      <th></th>\n",
       "      <th>review</th>\n",
       "      <th>sentiment</th>\n",
       "      <th>review_word_token</th>\n",
       "      <th>review_sent_token</th>\n",
       "      <th>review_stemmed</th>\n",
       "    </tr>\n",
       "  </thead>\n",
       "  <tbody>\n",
       "    <tr>\n",
       "      <th>0</th>\n",
       "      <td>one reviewers mentioned watching 1 oz episode ...</td>\n",
       "      <td>positive</td>\n",
       "      <td>[one, reviewers, mentioned, watching, 1, oz, e...</td>\n",
       "      <td>[one reviewers mentioned watching 1 oz episode...</td>\n",
       "      <td>one review mention watch 1 oz episod hooked. r...</td>\n",
       "    </tr>\n",
       "    <tr>\n",
       "      <th>1</th>\n",
       "      <td>wonderful little production. the filming techn...</td>\n",
       "      <td>positive</td>\n",
       "      <td>[wonderful, little, production, ., the, filmin...</td>\n",
       "      <td>[wonderful little production., the filming tec...</td>\n",
       "      <td>wonder littl production. the film techniqu una...</td>\n",
       "    </tr>\n",
       "    <tr>\n",
       "      <th>2</th>\n",
       "      <td>thought wonderful way spend Tears in my eyes h...</td>\n",
       "      <td>positive</td>\n",
       "      <td>[thought, wonderful, way, spend, Tears, in, my...</td>\n",
       "      <td>[thought wonderful way spend Tears in my eyes ...</td>\n",
       "      <td>thought wonder way spend tear in my eye hot su...</td>\n",
       "    </tr>\n",
       "    <tr>\n",
       "      <th>3</th>\n",
       "      <td>basically there's family little boy (jake) thi...</td>\n",
       "      <td>negative</td>\n",
       "      <td>[basically, there, 's, family, little, boy, (,...</td>\n",
       "      <td>[basically there's family little boy (jake) th...</td>\n",
       "      <td>basic there' famili littl boy (jake) think the...</td>\n",
       "    </tr>\n",
       "    <tr>\n",
       "      <th>4</th>\n",
       "      <td>petter mattei's \"love Tears in my eyes money\" ...</td>\n",
       "      <td>positive</td>\n",
       "      <td>[petter, mattei, 's, ``, love, Tears, in, my, ...</td>\n",
       "      <td>[petter mattei's \"love Tears in my eyes money\"...</td>\n",
       "      <td>petter mattei' \"love tear in my eye money\" vis...</td>\n",
       "    </tr>\n",
       "  </tbody>\n",
       "</table>\n",
       "</div>"
      ],
      "text/plain": [
       "                                              review sentiment  \\\n",
       "0  one reviewers mentioned watching 1 oz episode ...  positive   \n",
       "1  wonderful little production. the filming techn...  positive   \n",
       "2  thought wonderful way spend Tears in my eyes h...  positive   \n",
       "3  basically there's family little boy (jake) thi...  negative   \n",
       "4  petter mattei's \"love Tears in my eyes money\" ...  positive   \n",
       "\n",
       "                                   review_word_token  \\\n",
       "0  [one, reviewers, mentioned, watching, 1, oz, e...   \n",
       "1  [wonderful, little, production, ., the, filmin...   \n",
       "2  [thought, wonderful, way, spend, Tears, in, my...   \n",
       "3  [basically, there, 's, family, little, boy, (,...   \n",
       "4  [petter, mattei, 's, ``, love, Tears, in, my, ...   \n",
       "\n",
       "                                   review_sent_token  \\\n",
       "0  [one reviewers mentioned watching 1 oz episode...   \n",
       "1  [wonderful little production., the filming tec...   \n",
       "2  [thought wonderful way spend Tears in my eyes ...   \n",
       "3  [basically there's family little boy (jake) th...   \n",
       "4  [petter mattei's \"love Tears in my eyes money\"...   \n",
       "\n",
       "                                      review_stemmed  \n",
       "0  one review mention watch 1 oz episod hooked. r...  \n",
       "1  wonder littl production. the film techniqu una...  \n",
       "2  thought wonder way spend tear in my eye hot su...  \n",
       "3  basic there' famili littl boy (jake) think the...  \n",
       "4  petter mattei' \"love tear in my eye money\" vis...  "
      ]
     },
     "execution_count": 54,
     "metadata": {},
     "output_type": "execute_result"
    }
   ],
   "source": [
    "df.head()"
   ]
  },
  {
   "cell_type": "code",
   "execution_count": 55,
   "id": "eb910361",
   "metadata": {},
   "outputs": [
    {
     "data": {
      "application/vnd.jupyter.widget-view+json": {
       "model_id": "eb7b5dc831fe4bbf96ef329d7a57b427",
       "version_major": 2,
       "version_minor": 0
      },
      "text/plain": [
       "  0%|          | 0/1000 [00:00<?, ?it/s]"
      ]
     },
     "metadata": {},
     "output_type": "display_data"
    },
    {
     "name": "stdout",
     "output_type": "stream",
     "text": [
      "Broke for id positive\n",
      "Broke for id positive\n",
      "Broke for id positive\n",
      "Broke for id negative\n",
      "Broke for id negative\n",
      "Broke for id negative\n",
      "Broke for id positive\n",
      "Broke for id positive\n",
      "Broke for id negative\n",
      "Broke for id negative\n",
      "Broke for id positive\n",
      "Broke for id positive\n",
      "Broke for id positive\n",
      "Broke for id negative\n",
      "Broke for id positive\n",
      "Broke for id positive\n",
      "Broke for id positive\n",
      "Broke for id positive\n",
      "Broke for id negative\n",
      "Broke for id negative\n",
      "Broke for id positive\n",
      "Broke for id negative\n",
      "Broke for id negative\n",
      "Broke for id positive\n",
      "Broke for id positive\n",
      "Broke for id negative\n",
      "Broke for id positive\n",
      "Broke for id positive\n",
      "Broke for id positive\n",
      "Broke for id negative\n",
      "Broke for id negative\n",
      "Broke for id positive\n",
      "Broke for id negative\n",
      "Broke for id positive\n",
      "Broke for id negative\n",
      "Broke for id positive\n",
      "Broke for id positive\n",
      "Broke for id positive\n",
      "Broke for id positive\n"
     ]
    }
   ],
   "source": [
    "res = {}\n",
    "for i, row in tqdm(df.iterrows(), total=len(df)):\n",
    "    try:\n",
    "        text = row['review']\n",
    "        myid = row['sentiment']\n",
    "        vader_result = sia.polarity_scores(text)\n",
    "        vader_result_rename = {}\n",
    "        for key, value in vader_result.items():\n",
    "            vader_result_rename[f\"vader_{key}\"] = value\n",
    "        roberta_result = polarity_scores_roberta(text)\n",
    "        both = {**vader_result_rename, **roberta_result}\n",
    "        res[myid] = both\n",
    "    except RuntimeError:\n",
    "        print(f'Broke for id {myid}')"
   ]
  },
  {
   "cell_type": "code",
   "execution_count": 57,
   "id": "657d96f4",
   "metadata": {},
   "outputs": [
    {
     "data": {
      "text/plain": [
       "Index(['review', 'sentiment', 'review_word_token', 'review_sent_token',\n",
       "       'review_stemmed'],\n",
       "      dtype='object')"
      ]
     },
     "execution_count": 57,
     "metadata": {},
     "output_type": "execute_result"
    }
   ],
   "source": [
    "df.columns"
   ]
  },
  {
   "cell_type": "markdown",
   "id": "79dc10e0",
   "metadata": {},
   "source": [
    "# Something Basic EDA"
   ]
  },
  {
   "cell_type": "code",
   "execution_count": 60,
   "id": "2ea0927a",
   "metadata": {},
   "outputs": [
    {
     "data": {
      "text/html": [
       "<div>\n",
       "<style scoped>\n",
       "    .dataframe tbody tr th:only-of-type {\n",
       "        vertical-align: middle;\n",
       "    }\n",
       "\n",
       "    .dataframe tbody tr th {\n",
       "        vertical-align: top;\n",
       "    }\n",
       "\n",
       "    .dataframe thead tr th {\n",
       "        text-align: left;\n",
       "    }\n",
       "\n",
       "    .dataframe thead tr:last-of-type th {\n",
       "        text-align: right;\n",
       "    }\n",
       "</style>\n",
       "<table border=\"1\" class=\"dataframe\">\n",
       "  <thead>\n",
       "    <tr>\n",
       "      <th></th>\n",
       "      <th colspan=\"4\" halign=\"left\">review</th>\n",
       "      <th colspan=\"4\" halign=\"left\">review_word_token</th>\n",
       "      <th colspan=\"4\" halign=\"left\">review_sent_token</th>\n",
       "      <th colspan=\"4\" halign=\"left\">review_stemmed</th>\n",
       "    </tr>\n",
       "    <tr>\n",
       "      <th></th>\n",
       "      <th>count</th>\n",
       "      <th>unique</th>\n",
       "      <th>top</th>\n",
       "      <th>freq</th>\n",
       "      <th>count</th>\n",
       "      <th>unique</th>\n",
       "      <th>top</th>\n",
       "      <th>freq</th>\n",
       "      <th>count</th>\n",
       "      <th>unique</th>\n",
       "      <th>top</th>\n",
       "      <th>freq</th>\n",
       "      <th>count</th>\n",
       "      <th>unique</th>\n",
       "      <th>top</th>\n",
       "      <th>freq</th>\n",
       "    </tr>\n",
       "    <tr>\n",
       "      <th>sentiment</th>\n",
       "      <th></th>\n",
       "      <th></th>\n",
       "      <th></th>\n",
       "      <th></th>\n",
       "      <th></th>\n",
       "      <th></th>\n",
       "      <th></th>\n",
       "      <th></th>\n",
       "      <th></th>\n",
       "      <th></th>\n",
       "      <th></th>\n",
       "      <th></th>\n",
       "      <th></th>\n",
       "      <th></th>\n",
       "      <th></th>\n",
       "      <th></th>\n",
       "    </tr>\n",
       "  </thead>\n",
       "  <tbody>\n",
       "    <tr>\n",
       "      <th>negative</th>\n",
       "      <td>499</td>\n",
       "      <td>499</td>\n",
       "      <td>basically there's family little boy (jake) thi...</td>\n",
       "      <td>1</td>\n",
       "      <td>499</td>\n",
       "      <td>499</td>\n",
       "      <td>[basically, there, 's, family, little, boy, (,...</td>\n",
       "      <td>1</td>\n",
       "      <td>499</td>\n",
       "      <td>499</td>\n",
       "      <td>[basically there's family little boy (jake) th...</td>\n",
       "      <td>1</td>\n",
       "      <td>499</td>\n",
       "      <td>499</td>\n",
       "      <td>basic there' famili littl boy (jake) think the...</td>\n",
       "      <td>1</td>\n",
       "    </tr>\n",
       "    <tr>\n",
       "      <th>positive</th>\n",
       "      <td>501</td>\n",
       "      <td>501</td>\n",
       "      <td>one reviewers mentioned watching 1 oz episode ...</td>\n",
       "      <td>1</td>\n",
       "      <td>501</td>\n",
       "      <td>501</td>\n",
       "      <td>[one, reviewers, mentioned, watching, 1, oz, e...</td>\n",
       "      <td>1</td>\n",
       "      <td>501</td>\n",
       "      <td>501</td>\n",
       "      <td>[one reviewers mentioned watching 1 oz episode...</td>\n",
       "      <td>1</td>\n",
       "      <td>501</td>\n",
       "      <td>501</td>\n",
       "      <td>one review mention watch 1 oz episod hooked. r...</td>\n",
       "      <td>1</td>\n",
       "    </tr>\n",
       "  </tbody>\n",
       "</table>\n",
       "</div>"
      ],
      "text/plain": [
       "          review                                                            \\\n",
       "           count unique                                                top   \n",
       "sentiment                                                                    \n",
       "negative     499    499  basically there's family little boy (jake) thi...   \n",
       "positive     501    501  one reviewers mentioned watching 1 oz episode ...   \n",
       "\n",
       "               review_word_token         \\\n",
       "          freq             count unique   \n",
       "sentiment                                 \n",
       "negative     1               499    499   \n",
       "positive     1               501    501   \n",
       "\n",
       "                                                                   \\\n",
       "                                                         top freq   \n",
       "sentiment                                                           \n",
       "negative   [basically, there, 's, family, little, boy, (,...    1   \n",
       "positive   [one, reviewers, mentioned, watching, 1, oz, e...    1   \n",
       "\n",
       "          review_sent_token         \\\n",
       "                      count unique   \n",
       "sentiment                            \n",
       "negative                499    499   \n",
       "positive                501    501   \n",
       "\n",
       "                                                                   \\\n",
       "                                                         top freq   \n",
       "sentiment                                                           \n",
       "negative   [basically there's family little boy (jake) th...    1   \n",
       "positive   [one reviewers mentioned watching 1 oz episode...    1   \n",
       "\n",
       "          review_stemmed         \\\n",
       "                   count unique   \n",
       "sentiment                         \n",
       "negative             499    499   \n",
       "positive             501    501   \n",
       "\n",
       "                                                                   \n",
       "                                                         top freq  \n",
       "sentiment                                                          \n",
       "negative   basic there' famili littl boy (jake) think the...    1  \n",
       "positive   one review mention watch 1 oz episod hooked. r...    1  "
      ]
     },
     "execution_count": 60,
     "metadata": {},
     "output_type": "execute_result"
    }
   ],
   "source": [
    "df.groupby(\"sentiment\").describe()"
   ]
  },
  {
   "cell_type": "code",
   "execution_count": 64,
   "id": "9d5795c7",
   "metadata": {},
   "outputs": [],
   "source": [
    "from sklearn.feature_extraction.text import CountVectorizer\n",
    "from sklearn.model_selection import train_test_split\n",
    "\n",
    "vectorizer = CountVectorizer(ngram_range=(1,2), stop_words=\"english\", min_df=15)\n",
    "\n",
    "x = vectorizer.fit_transform(df[\"review\"])\n",
    "y = df[\"sentiment\"].apply(lambda x: 1 if x == 'positive' else 0)\n",
    "\n",
    "x_train, x_test, y_train, y_test = train_test_split(x,y, test_size=0.4, random_state=23)"
   ]
  },
  {
   "cell_type": "code",
   "execution_count": 65,
   "id": "537ad401",
   "metadata": {},
   "outputs": [
    {
     "data": {
      "text/html": [
       "<style>#sk-container-id-1 {color: black;}#sk-container-id-1 pre{padding: 0;}#sk-container-id-1 div.sk-toggleable {background-color: white;}#sk-container-id-1 label.sk-toggleable__label {cursor: pointer;display: block;width: 100%;margin-bottom: 0;padding: 0.3em;box-sizing: border-box;text-align: center;}#sk-container-id-1 label.sk-toggleable__label-arrow:before {content: \"▸\";float: left;margin-right: 0.25em;color: #696969;}#sk-container-id-1 label.sk-toggleable__label-arrow:hover:before {color: black;}#sk-container-id-1 div.sk-estimator:hover label.sk-toggleable__label-arrow:before {color: black;}#sk-container-id-1 div.sk-toggleable__content {max-height: 0;max-width: 0;overflow: hidden;text-align: left;background-color: #f0f8ff;}#sk-container-id-1 div.sk-toggleable__content pre {margin: 0.2em;color: black;border-radius: 0.25em;background-color: #f0f8ff;}#sk-container-id-1 input.sk-toggleable__control:checked~div.sk-toggleable__content {max-height: 200px;max-width: 100%;overflow: auto;}#sk-container-id-1 input.sk-toggleable__control:checked~label.sk-toggleable__label-arrow:before {content: \"▾\";}#sk-container-id-1 div.sk-estimator input.sk-toggleable__control:checked~label.sk-toggleable__label {background-color: #d4ebff;}#sk-container-id-1 div.sk-label input.sk-toggleable__control:checked~label.sk-toggleable__label {background-color: #d4ebff;}#sk-container-id-1 input.sk-hidden--visually {border: 0;clip: rect(1px 1px 1px 1px);clip: rect(1px, 1px, 1px, 1px);height: 1px;margin: -1px;overflow: hidden;padding: 0;position: absolute;width: 1px;}#sk-container-id-1 div.sk-estimator {font-family: monospace;background-color: #f0f8ff;border: 1px dotted black;border-radius: 0.25em;box-sizing: border-box;margin-bottom: 0.5em;}#sk-container-id-1 div.sk-estimator:hover {background-color: #d4ebff;}#sk-container-id-1 div.sk-parallel-item::after {content: \"\";width: 100%;border-bottom: 1px solid gray;flex-grow: 1;}#sk-container-id-1 div.sk-label:hover label.sk-toggleable__label {background-color: #d4ebff;}#sk-container-id-1 div.sk-serial::before {content: \"\";position: absolute;border-left: 1px solid gray;box-sizing: border-box;top: 0;bottom: 0;left: 50%;z-index: 0;}#sk-container-id-1 div.sk-serial {display: flex;flex-direction: column;align-items: center;background-color: white;padding-right: 0.2em;padding-left: 0.2em;position: relative;}#sk-container-id-1 div.sk-item {position: relative;z-index: 1;}#sk-container-id-1 div.sk-parallel {display: flex;align-items: stretch;justify-content: center;background-color: white;position: relative;}#sk-container-id-1 div.sk-item::before, #sk-container-id-1 div.sk-parallel-item::before {content: \"\";position: absolute;border-left: 1px solid gray;box-sizing: border-box;top: 0;bottom: 0;left: 50%;z-index: -1;}#sk-container-id-1 div.sk-parallel-item {display: flex;flex-direction: column;z-index: 1;position: relative;background-color: white;}#sk-container-id-1 div.sk-parallel-item:first-child::after {align-self: flex-end;width: 50%;}#sk-container-id-1 div.sk-parallel-item:last-child::after {align-self: flex-start;width: 50%;}#sk-container-id-1 div.sk-parallel-item:only-child::after {width: 0;}#sk-container-id-1 div.sk-dashed-wrapped {border: 1px dashed gray;margin: 0 0.4em 0.5em 0.4em;box-sizing: border-box;padding-bottom: 0.4em;background-color: white;}#sk-container-id-1 div.sk-label label {font-family: monospace;font-weight: bold;display: inline-block;line-height: 1.2em;}#sk-container-id-1 div.sk-label-container {text-align: center;}#sk-container-id-1 div.sk-container {/* jupyter's `normalize.less` sets `[hidden] { display: none; }` but bootstrap.min.css set `[hidden] { display: none !important; }` so we also need the `!important` here to be able to override the default hidden behavior on the sphinx rendered scikit-learn.org. See: https://github.com/scikit-learn/scikit-learn/issues/21755 */display: inline-block !important;position: relative;}#sk-container-id-1 div.sk-text-repr-fallback {display: none;}</style><div id=\"sk-container-id-1\" class=\"sk-top-container\"><div class=\"sk-text-repr-fallback\"><pre>MultinomialNB()</pre><b>In a Jupyter environment, please rerun this cell to show the HTML representation or trust the notebook. <br />On GitHub, the HTML representation is unable to render, please try loading this page with nbviewer.org.</b></div><div class=\"sk-container\" hidden><div class=\"sk-item\"><div class=\"sk-estimator sk-toggleable\"><input class=\"sk-toggleable__control sk-hidden--visually\" id=\"sk-estimator-id-1\" type=\"checkbox\" checked><label for=\"sk-estimator-id-1\" class=\"sk-toggleable__label sk-toggleable__label-arrow\">MultinomialNB</label><div class=\"sk-toggleable__content\"><pre>MultinomialNB()</pre></div></div></div></div></div>"
      ],
      "text/plain": [
       "MultinomialNB()"
      ]
     },
     "execution_count": 65,
     "metadata": {},
     "output_type": "execute_result"
    }
   ],
   "source": [
    "from sklearn.naive_bayes import MultinomialNB\n",
    "\n",
    "modelNB = MultinomialNB()\n",
    "\n",
    "modelNB.fit(x_train, y_train)"
   ]
  },
  {
   "cell_type": "code",
   "execution_count": 66,
   "id": "218783bf",
   "metadata": {},
   "outputs": [
    {
     "data": {
      "text/plain": [
       "<sklearn.metrics._plot.confusion_matrix.ConfusionMatrixDisplay at 0x27f3192a2d0>"
      ]
     },
     "execution_count": 66,
     "metadata": {},
     "output_type": "execute_result"
    },
    {
     "data": {
      "image/png": "[encoded data removed]",
      "text/plain": [
       "<Figure size 640x480 with 2 Axes>"
      ]
     },
     "metadata": {},
     "output_type": "display_data"
    }
   ],
   "source": [
    "%matplotlib inline\n",
    "from sklearn.metrics import ConfusionMatrixDisplay as cmd\n",
    "\n",
    "cmd.from_estimator(modelNB, x_test, y_test,\n",
    "                   display_labels=['Negative', 'Positive'],\n",
    "                   cmap='Blues', xticks_rotation='vertical')"
   ]
  },
  {
   "cell_type": "markdown",
   "id": "70afec79",
   "metadata": {},
   "source": [
    "# Plots"
   ]
  },
  {
   "cell_type": "code",
   "execution_count": 73,
   "id": "aa34cb34",
   "metadata": {},
   "outputs": [],
   "source": [
    "df['review_length'] = df['review'].apply(len)"
   ]
  },
  {
   "cell_type": "code",
   "execution_count": 74,
   "id": "0d7f0671",
   "metadata": {},
   "outputs": [
    {
     "data": {
      "image/png": "[encoded data removed]",
      "text/plain": [
       "<Figure size 640x480 with 1 Axes>"
      ]
     },
     "metadata": {},
     "output_type": "display_data"
    }
   ],
   "source": [
    "plt.hist(df['review_length'], bins=50)\n",
    "plt.xlabel('Review Length')\n",
    "plt.ylabel('Frequency')\n",
    "plt.title('Histogram of Review Length for Full Data')\n",
    "plt.show()"
   ]
  },
  {
   "cell_type": "code",
   "execution_count": 78,
   "id": "f044b1b1",
   "metadata": {},
   "outputs": [],
   "source": [
    "positive_reviews = df[df['sentiment'] == 'positive']\n",
    "negative_reviews = df[df['sentiment'] == 'negative']"
   ]
  },
  {
   "cell_type": "code",
   "execution_count": 79,
   "id": "1425bb57",
   "metadata": {},
   "outputs": [
    {
     "data": {
      "image/png": "[encoded data removed]",
      "text/plain": [
       "<Figure size 640x480 with 1 Axes>"
      ]
     },
     "metadata": {},
     "output_type": "display_data"
    }
   ],
   "source": [
    "plt.hist(positive_reviews['review_length'], bins=50, color='blue')\n",
    "plt.xlabel('Review Length')\n",
    "plt.ylabel('Frequency')\n",
    "plt.title('Histogram of Review Length for Positive Reviews')\n",
    "plt.show()"
   ]
  },
  {
   "cell_type": "code",
   "execution_count": 80,
   "id": "abba642d",
   "metadata": {},
   "outputs": [
    {
     "data": {
      "image/png": "[encoded data removed]",
      "text/plain": [
       "<Figure size 640x480 with 1 Axes>"
      ]
     },
     "metadata": {},
     "output_type": "display_data"
    }
   ],
   "source": [
    "plt.hist(negative_reviews['review_length'], bins=50, color='red')\n",
    "plt.xlabel('Review Length')\n",
    "plt.ylabel('Frequency')\n",
    "plt.title('Histogram of Review Length for Negative Reviews')\n",
    "plt.show()"
   ]
  },
  {
   "cell_type": "code",
   "execution_count": 84,
   "id": "31ca5717",
   "metadata": {},
   "outputs": [
    {
     "data": {
      "image/png": "[encoded data removed]",
      "text/plain": [
       "<Figure size 640x480 with 1 Axes>"
      ]
     },
     "metadata": {},
     "output_type": "display_data"
    }
   ],
   "source": [
    "words = nltk.word_tokenize(\" \".join(df['review'].values.tolist()))\n",
    "word_freq = Counter(words)\n",
    "\n",
    "words_df = pd.DataFrame.from_dict(word_freq, orient='index', columns=['Frequency'])\n",
    "top_words = words_df.sort_values(by='Frequency', ascending=False).head(20)\n",
    "\n",
    "top_words.plot(kind='barh', legend=False)\n",
    "plt.xlabel('Frequency')\n",
    "plt.title('Top 20 Words')\n",
    "plt.gca().invert_yaxis()\n",
    "plt.show()"
   ]
  },
  {
   "cell_type": "code",
   "execution_count": null,
   "id": "e1dd1c73",
   "metadata": {},
   "outputs": [],
   "source": []
  }
 ],
 "metadata": {
  "kernelspec": {
   "display_name": "Python 3 (ipykernel)",
   "language": "python",
   "name": "python3"
  },
  "language_info": {
   "codemirror_mode": {
    "name": "ipython",
    "version": 3
   },
   "file_extension": ".py",
   "mimetype": "text/x-python",
   "name": "python",
   "nbconvert_exporter": "python",
   "pygments_lexer": "ipython3",
   "version": "3.11.5"
  }
 },
 "nbformat": 4,
 "nbformat_minor": 5
}
